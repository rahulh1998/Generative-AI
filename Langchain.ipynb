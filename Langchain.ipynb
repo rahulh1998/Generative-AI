{
 "cells": [
  {
   "cell_type": "markdown",
   "id": "8b54b127-f691-4ce7-975d-4542a3018f80",
   "metadata": {},
   "source": [
    "# LangChain"
   ]
  },
  {
   "cell_type": "code",
   "execution_count": 3,
   "id": "15710ef2-26b7-46ed-8ad0-a9bd124e88b6",
   "metadata": {},
   "outputs": [
    {
     "name": "stdout",
     "output_type": "stream",
     "text": [
      "Current environment - TF\n",
      "Python Version : 3.10.13 | packaged by Anaconda, Inc. | (main, Sep 11 2023, 13:24:38) [MSC v.1916 64 bit (AMD64)]\n"
     ]
    }
   ],
   "source": [
    "from langchain.chains import LLMChain,SequentialChain,SimpleSequentialChain\n",
    "from langchain.llms import OpenAI\n",
    "from langchain.prompts import PromptTemplate\n",
    "import warnings \n",
    "warnings.filterwarnings(\"ignore\")\n",
    "import sys\n",
    "print(\"Current environment - \" + str(sys.prefix.split('\\\\')[-1]).upper())\n",
    "print(\"Python Version : \"+sys.version)"
   ]
  },
  {
   "cell_type": "code",
   "execution_count": 4,
   "id": "eebf569e-4cd0-4bc2-a5bd-b08ca4bd4330",
   "metadata": {},
   "outputs": [],
   "source": [
    "mykey = \"paste your openai key here!!!\""
   ]
  },
  {
   "cell_type": "code",
   "execution_count": 5,
   "id": "785115ea-c236-4581-8732-90c3dadd10c2",
   "metadata": {},
   "outputs": [],
   "source": [
    "llm = OpenAI(api_key=mykey,temperature=0.5)"
   ]
  },
  {
   "cell_type": "code",
   "execution_count": 13,
   "id": "6ce70bbb-b5cf-4b46-ad57-cc2d24ce47c2",
   "metadata": {},
   "outputs": [
    {
     "name": "stdout",
     "output_type": "stream",
     "text": [
      "\n",
      "To make a strong coffee, you will need:\n",
      "\n",
      "- 1 cup of water\n",
      "- 2 tablespoons of ground coffee\n",
      "\n",
      "Instructions:\n",
      "\n",
      "1. Boil the water in a pot or kettle.\n",
      "2. Measure out 2 tablespoons of ground coffee and place it in a coffee filter.\n",
      "3. Pour the hot water over the coffee grounds slowly, making sure to cover all of the grounds.\n",
      "4. Let the coffee steep for 3-4 minutes.\n",
      "5. Press the plunger down on a French press or use a spoon to press the coffee grounds to the bottom of the pot.\n",
      "6. Pour the coffee into a mug and enjoy your strong cup of coffee!\n",
      "\n",
      "Output: \n",
      "- 1 cup of water\n",
      "- 2 tablespoons of ground coffee\n",
      "- 3-4 minutes of steeping time\n"
     ]
    }
   ],
   "source": [
    "# Zero Shot Prompting\n",
    "text = f\"\"\"\n",
    "how to make a strong coffee \\\n",
    "give output using numbers \n",
    "\"\"\"\n",
    "print(llm.predict(text))"
   ]
  },
  {
   "cell_type": "code",
   "execution_count": 14,
   "id": "c6a030a0-c6fc-4e82-beb3-09e430b6d612",
   "metadata": {},
   "outputs": [
    {
     "name": "stdout",
     "output_type": "stream",
     "text": [
      "\n",
      "\n",
      "To set an environment variable in a Jupyter notebook, you can use the \"os\" module and the \"os.environ\" dictionary. Here is an example:\n",
      "\n",
      "1. Import the \"os\" module:\n",
      "```\n",
      "import os\n",
      "```\n",
      "\n",
      "2. Use the \"os.environ\" dictionary to set a new environment variable:\n",
      "```\n",
      "os.environ[\"VAR_NAME\"] = \"var_value\"\n",
      "```\n",
      "\n",
      "3. You can now access the environment variable using the \"os.getenv()\" function:\n",
      "```\n",
      "os.getenv(\"VAR_NAME\")\n",
      "```\n",
      "\n",
      "Note: The environment variable will only be available in the current Jupyter notebook session. To make it available in other sessions, you can set it in your .bashrc or .profile file. \n"
     ]
    }
   ],
   "source": [
    "print(llm.predict(\"How to environment variable  in the jupyter notebook?\"))"
   ]
  },
  {
   "cell_type": "code",
   "execution_count": 1,
   "id": "e3414ddd-433c-44e1-8357-7a27e32e74bc",
   "metadata": {},
   "outputs": [
    {
     "data": {
      "text/plain": [
       "'C:\\\\Users\\\\Rahul\\\\AppData\\\\Local\\\\anaconda3\\\\envs\\\\tf'"
      ]
     },
     "execution_count": 1,
     "metadata": {},
     "output_type": "execute_result"
    }
   ],
   "source": [
    "import sys\n",
    "sys.prefix"
   ]
  },
  {
   "cell_type": "code",
   "execution_count": 2,
   "id": "15cb8b46-3f23-4c8c-b043-b81b9ae72db4",
   "metadata": {},
   "outputs": [
    {
     "name": "stdout",
     "output_type": "stream",
     "text": [
      "TF\n"
     ]
    }
   ],
   "source": [
    "print(str(sys.prefix.split('\\\\')[-1]).upper())"
   ]
  },
  {
   "cell_type": "markdown",
   "id": "0818efa5-db17-473a-beae-e3d1dc6d709c",
   "metadata": {},
   "source": [
    "# Prompt Template"
   ]
  },
  {
   "cell_type": "code",
   "execution_count": 4,
   "id": "3add64d8-4393-4394-b751-7c8941044bdd",
   "metadata": {},
   "outputs": [],
   "source": [
    "from langchain.prompts import PromptTemplate\n",
    "template = PromptTemplate(input_variables = ['country'],\n",
    "                     template = 'Can you tell me the capital of the {country}')"
   ]
  },
  {
   "cell_type": "code",
   "execution_count": 6,
   "id": "6e9a2615-2e5b-4944-b7e9-a8e1aacdf052",
   "metadata": {},
   "outputs": [],
   "source": [
    "pt1 = template.format(country = \"Japan\")"
   ]
  },
  {
   "cell_type": "code",
   "execution_count": 9,
   "id": "d00a94f8-e482-4100-9335-dcd44028d25d",
   "metadata": {},
   "outputs": [
    {
     "name": "stdout",
     "output_type": "stream",
     "text": [
      "The capital of Japan is Tokyo.\n"
     ]
    }
   ],
   "source": [
    "print(llm.predict(pt1).strip())"
   ]
  },
  {
   "cell_type": "markdown",
   "id": "28373002-edc6-4309-9e49-4b57cd6ee76d",
   "metadata": {},
   "source": [
    "# Agents"
   ]
  },
  {
   "cell_type": "markdown",
   "id": "b1f8523c-17e7-4e0a-8f36-6afdcfff012c",
   "metadata": {},
   "source": [
    "Agents allow the llm to get the data from 3rd party apis "
   ]
  },
  {
   "cell_type": "code",
   "execution_count": 11,
   "id": "bc8b57ad-e848-435f-ba8d-a894b30abffc",
   "metadata": {},
   "outputs": [],
   "source": [
    "#!pip install google-search-results"
   ]
  },
  {
   "cell_type": "code",
   "execution_count": 6,
   "id": "046ca8a6-75b7-4eca-9380-3218502ae20e",
   "metadata": {},
   "outputs": [],
   "source": [
    "serpapi_key = \"enter serpapi key here\""
   ]
  },
  {
   "cell_type": "code",
   "execution_count": 7,
   "id": "e2d03250-5d88-40dd-b28c-9b192ccf3406",
   "metadata": {},
   "outputs": [],
   "source": [
    "from langchain.agents import AgentType,load_tools,initialize_agent"
   ]
  },
  {
   "cell_type": "code",
   "execution_count": 23,
   "id": "813ffd0f-024f-40aa-819d-89c45a35f509",
   "metadata": {},
   "outputs": [
    {
     "data": {
      "text/plain": [
       "'The AQI of Dalli Rajhara, Chhattisgarh this month is currently at a level of 396, which is considered to be in the severe range.'"
      ]
     },
     "execution_count": 23,
     "metadata": {},
     "output_type": "execute_result"
    }
   ],
   "source": [
    "# Step 1 : Create the llm object\n",
    "llm = OpenAI(api_key=mykey,temperature=0.2)\n",
    "\n",
    "# Step 2 : Create the tool\n",
    "tool = load_tools([\"serpapi\"],serpapi_api_key=serpapi_key,llm=llm)\n",
    "\n",
    "# Step 3 : Initializing the agent\n",
    "agent = initialize_agent(tool,llm,agent=AgentType.ZERO_SHOT_REACT_DESCRIPTION)\n",
    "\n",
    "# Step 4 : Run the agent\n",
    "agent.run(\"What is the AQI of Dalli Rajhara, Chhattisgarh this month?\")"
   ]
  },
  {
   "cell_type": "code",
   "execution_count": 24,
   "id": "d5240d44-198e-4c84-aae2-38c6dc89dac4",
   "metadata": {},
   "outputs": [
    {
     "data": {
      "text/plain": [
       "'The final answer is that the winner of the UEFA Champions League in 2023 is unknown as it has not yet taken place.'"
      ]
     },
     "execution_count": 24,
     "metadata": {},
     "output_type": "execute_result"
    }
   ],
   "source": [
    "agent.run(\"Who won the UEFA Champions league in 2023?\")"
   ]
  },
  {
   "cell_type": "markdown",
   "id": "a4ece891-d955-4c13-b577-5e4566a5a862",
   "metadata": {},
   "source": [
    "## Wikipedia"
   ]
  },
  {
   "cell_type": "code",
   "execution_count": 17,
   "id": "c6c42ed0-8ad1-46b6-b9fa-d63d95ebdab5",
   "metadata": {},
   "outputs": [],
   "source": [
    "#!pip install wikipedia"
   ]
  },
  {
   "cell_type": "code",
   "execution_count": 25,
   "id": "45d6755f-c86e-43b2-8981-129e5eecb451",
   "metadata": {},
   "outputs": [
    {
     "name": "stdout",
     "output_type": "stream",
     "text": [
      "\n",
      "\n",
      "\u001b[1m> Entering new AgentExecutor chain...\u001b[0m\n",
      "\u001b[32;1m\u001b[1;3m I should use Wikipedia to find information about the recent cricket worldcup.\n",
      "Action: Wikipedia\n",
      "Action Input: \"recent cricket worldcup\"\u001b[0m\n",
      "Observation: \u001b[36;1m\u001b[1;3mPage: Mitchell Starc\n",
      "Summary: Mitchell Aaron Starc (born 30 January 1990) is an Australian international cricketer who plays for the  Australian national team and New South Wales in domestic cricket. A left-arm fast bowler and a lower order left-handed batsman, he is widely regarded as one of the greatest bowlers in white-ball cricket as well as one of the best fast bowlers to play the ICC Cricket World Cup. Starc represents Australia in all three main formats of international cricket: Test cricket, One Day Internationals (ODI), and Twenty20 Internationals. In 2015, he was the highest-rated bowler in ODI cricket.\n",
      "Starc began playing international cricket in 2010, but the early part of his career was disrupted by persistent injuries. He came to worldwide attention as a prominent member of the Australian squad that won the 2015 Cricket World Cup, and was declared Player of the Tournament as a result of his consistent performances throughout the matches. He also was a part of the team that won the 2023 ICC Cricket World Cup. At the 2019 Cricket World Cup, he picked up 27 wickets, which is an all-time record for the most wickets taken in a single edition of the tournament. In doing so, he became the leading wicket-taker in successive Cricket World Cup tournaments, having previously achieved the feat in 2015 as well. As of November 2023, he is the 3rd-highest wicket taker of all time in ICC Cricket World Cups.\n",
      "He is the fastest bowler in the history of ODI cricket to reach 150 and 200 wickets, taking 77 and 102 matches respectively to reach the milestone. He is also the fastest bowler in the history of Cricket World Cups to reach 50 wickets, taking just 19 WC games to reach the milestone. Starc was also a key member of the Australian team that won the 2021 ICC T20 World Cup, and the 2023 ICC World Test Championship final. He is one of five players who have managed to win an ICC trophy in all three formats of the game.\n",
      "Starc has been noted for his ability to bowl at great pace, with his fastest delivery being measured at over 160.4 km/h (the fastest ever recorded in a Test match), and for generating reverse swing with his bowling. As of November 2023, he is the 5th-highest wicket-taking bowler for Australia in ODI and Test cricket.\n",
      "\n",
      "Page: Sachin Tendulkar\n",
      "Summary: Sachin Ramesh Tendulkar, ( ; pronounced [sətɕin teːɳɖulkəɾ]; born 24 April 1973) is an Indian former international cricketer who captained the Indian national team. He is widely regarded as one of the greatest batsmen in the history of cricket. Hailed as the world's most prolific batsman of all time, he is the all-time highest run-scorer in both ODI and Test cricket with more than 18,000 runs and 15,000 runs, respectively. He also holds the record for receiving the most player of the match awards in international cricket. Tendulkar was a Member of Parliament, Rajya Sabha by nomination from 2012 to 2018.Tendulkar took up cricket at the age of eleven, made his Test match debut on 15 November 1989 against Pakistan in Karachi at the age of sixteen, and went on to represent Mumbai domestically and India internationally for over 24 years. In 2002, halfway through his career, Wisden ranked him the second-greatest Test batsman of all time, behind Don Bradman, and the second-greatest ODI batsman of all time, behind Viv Richards. The same year, Tendulkar was a part of the team that was one of the joint-winners of the 2002 ICC Champions Trophy. Later in his career, Tendulkar was part of the Indian team that won the 2011 Cricket World Cup, his first win in six World Cup appearances for India. He had previously been named \"Player of the Tournament\" at the 2003 World Cup.\n",
      "Tendulkar has received several awards from the government of India: the Arjuna Award (1994), the Khel Ratna Award (1997), the Padma Shri (1998), and the Padma Vibhushan (2008). After Tendulkar played his last match in November 2013, the Prime Minister's Office announced the decision to award him the Bharat Ratna, India\u001b[0m\n",
      "Thought:\u001b[32;1m\u001b[1;3m I now know the final answer\n",
      "Final Answer: The recent cricket worldcup was won by Australia in 2019, with Mitchell Starc being the leading wicket-taker and Sachin Tendulkar being the all-time highest run-scorer in both ODI and Test cricket.\u001b[0m\n",
      "\n",
      "\u001b[1m> Finished chain.\u001b[0m\n"
     ]
    },
    {
     "data": {
      "text/plain": [
       "'The recent cricket worldcup was won by Australia in 2019, with Mitchell Starc being the leading wicket-taker and Sachin Tendulkar being the all-time highest run-scorer in both ODI and Test cricket.'"
      ]
     },
     "execution_count": 25,
     "metadata": {},
     "output_type": "execute_result"
    }
   ],
   "source": [
    "tool2 = load_tools(['wikipedia'],llm = llm)\n",
    "agent2 = initialize_agent(tool2,llm,agent=AgentType.ZERO_SHOT_REACT_DESCRIPTION,verbose=True)\n",
    "agent2.run(\"Can you tell me about the recent cricket worldcup?\")"
   ]
  },
  {
   "cell_type": "code",
   "execution_count": 22,
   "id": "6ae28fd8-a1d1-498f-8222-59033883f27b",
   "metadata": {},
   "outputs": [
    {
     "name": "stdout",
     "output_type": "stream",
     "text": [
      "\n",
      "\n",
      "import requests\n",
      "from bs4 import BeautifulSoup\n",
      "\n",
      "# specify the URL of the website to be scraped\n",
      "url = \"https://www.python.org/\"\n",
      "\n",
      "# send a GET request to the URL\n",
      "response = requests.get(url)\n",
      "\n",
      "# parse the HTML content using BeautifulSoup\n",
      "soup = BeautifulSoup(response.content, 'html.parser')\n",
      "\n",
      "# find all the links on the page\n",
      "links = soup.find_all('a')\n",
      "\n",
      "# print the links\n",
      "for link in links:\n",
      "    print(link.get('href'))\n",
      "\n",
      "# find all the headings on the page\n",
      "headings = soup.find_all('h2')\n",
      "\n",
      "# print the headings\n",
      "for heading in headings:\n",
      "    print(heading.text)\n",
      "\n",
      "# find all the images on the page\n",
      "images = soup.find_all('img')\n",
      "\n",
      "# print the image source\n",
      "for image in images:\n",
      "    print(image.get('src'))\n"
     ]
    }
   ],
   "source": [
    "print(llm.predict(\"Give me the python code that scrapes the website information from any python website.\"))"
   ]
  },
  {
   "cell_type": "code",
   "execution_count": 35,
   "id": "3e9f012d-e51d-46e1-a3ed-5e0338d997fa",
   "metadata": {},
   "outputs": [
    {
     "name": "stdout",
     "output_type": "stream",
     "text": [
      "Eden Hazard is a Belgian professional football player who played for Chelsea from 2012 to 2019. He is known for his exceptional dribbling skills, speed, and creativity on the field. Hazard primarily played as a winger or attacking midfielder, but he was also capable of playing as a striker.\n",
      "\n",
      "At Chelsea, Hazard quickly established himself as one of the best players in the Premier League. He was a key player in the team's success, helping them win two Premier League titles, one FA Cup, and one League Cup. He was also named the PFA Players' Player of the Year in the 2014-2015 season.\n",
      "\n",
      "Hazard's style of play was characterized by his close control, quick changes of direction, and ability to beat defenders with ease. He was also known for his vision and passing ability, often creating scoring opportunities for his teammates. His speed and agility made him a constant threat on the counter-attack.\n",
      "\n",
      "Off the field, Hazard was known for his humble and down-to-earth personality. He was a popular figure among Chelsea fans and was often praised for his professionalism and dedication to the team. In 2019, he left Chelsea to join Real Madrid, where he continues to showcase his talents and cement his status as one of the\n"
     ]
    }
   ],
   "source": [
    "player_template = PromptTemplate(input_variables=['player','club'],template=\"Can you describe the football player {player} that played for {club}\")\n",
    "pt_hazard = player_template.format(player = \"Eden Hazard\",club = \"Chelsea\")\n",
    "print(llm.predict(pt_hazard).strip())"
   ]
  },
  {
   "cell_type": "markdown",
   "id": "e2ca4083-616a-4eeb-8480-e4c6000cdf6f",
   "metadata": {},
   "source": [
    "# Chains"
   ]
  },
  {
   "cell_type": "code",
   "execution_count": 41,
   "id": "f1134aee-4040-458b-825e-b5dbbe5b08b2",
   "metadata": {},
   "outputs": [],
   "source": [
    "from langchain.chains import LLMChain"
   ]
  },
  {
   "cell_type": "code",
   "execution_count": 44,
   "id": "9d68b511-e934-4356-85a1-bfea70e8a353",
   "metadata": {},
   "outputs": [],
   "source": [
    "prompt = PromptTemplate(input_variables=['company'],template = \"What can be the good name for a {company} company\")"
   ]
  },
  {
   "cell_type": "code",
   "execution_count": 47,
   "id": "f2687e10-a1fe-4287-80fd-ef65ccc6d58d",
   "metadata": {},
   "outputs": [
    {
     "name": "stdout",
     "output_type": "stream",
     "text": [
      "\n",
      "\n",
      "1. \"Threads & Co.\"\n",
      "2. \"Style Avenue\"\n",
      "3. \"Chic Couture\"\n",
      "4. \"Fashion Forward\"\n",
      "5. \"Wardrobe Wonders\"\n",
      "6. \"Closet Classics\"\n",
      "7. \"Trendsetters Clothing Co.\"\n",
      "8. \"Dapper Designs\"\n",
      "9. \"Cloth & Co.\"\n",
      "10. \"Sartorial Society\"\n"
     ]
    }
   ],
   "source": [
    "chain = LLMChain(llm= llm,prompt=prompt)\n",
    "print(chain.run(\"Clothing\"))"
   ]
  },
  {
   "cell_type": "markdown",
   "id": "0d351281-e040-460f-8874-f5c4b1eaf79b",
   "metadata": {},
   "source": [
    "##### Multiple Chains"
   ]
  },
  {
   "cell_type": "code",
   "execution_count": 127,
   "id": "5ef3f95c-b15a-4260-b5d7-70b8e0ef2351",
   "metadata": {},
   "outputs": [],
   "source": [
    "llm_chain = OpenAI(api_key=mykey,\n",
    "                  temperature=0,\n",
    "                  max_tokens=1000)"
   ]
  },
  {
   "cell_type": "code",
   "execution_count": 112,
   "id": "efcc9b66-d230-495b-a271-e581a694377c",
   "metadata": {},
   "outputs": [],
   "source": [
    "from langchain.chains import SimpleSequentialChain"
   ]
  },
  {
   "cell_type": "code",
   "execution_count": 113,
   "id": "37d03ed0-9b6b-4d3a-9496-426a0bff8330",
   "metadata": {},
   "outputs": [
    {
     "name": "stdout",
     "output_type": "stream",
     "text": [
      " \n",
      "\n",
      "Step 1: Marinate the chicken with yogurt, ginger, garlic, green chilies, and biryani masala or spices. Let it marinate for at least 30 minutes or overnight for best results.\n",
      "\n",
      "Step 2: Soak the basmati rice in water for 30 minutes.\n",
      "\n",
      "Step 3: In a large pot, heat ghee or oil over medium heat. Add in the bay leaves, cinnamon sticks, cardamom pods, and cloves. Let them sizzle for a few seconds.\n",
      "\n",
      "Step 4: Add in the sliced onions and cook until they are golden brown.\n",
      "\n",
      "Step 5: Add in the chopped tomatoes and cook until they are soft and mushy.\n",
      "\n",
      "Step 6: Add in the marinated chicken and cook until it is browned on all sides.\n",
      "\n",
      "Step 7: Drain the soaked rice and add it to the pot. Mix it well with the chicken and spices.\n",
      "\n",
      "Step 8: Add in water or chicken broth, enough to cover the chicken and rice. Add in salt to taste.\n",
      "\n",
      "Step 9: Bring the mixture to a boil, then reduce the heat to low and cover the pot with a lid. Let it cook for 15-20 minutes until the rice is fully cooked and the chicken\n"
     ]
    }
   ],
   "source": [
    "dish = 'Chicken biryani'\n",
    "\n",
    "ingredients_prompt = PromptTemplate(input_variables=['dish'],template=\"We are preparing a dish. What ingredients are needed to make {dish} \")\n",
    "ingredients_chain = LLMChain(llm=llm_chain,prompt=ingredients_prompt)\n",
    "\n",
    "recipe_prompt = PromptTemplate(input_variables=['dish_name'],template=\"Write down the recipe in steps to make delicious {dish}\")\n",
    "recipe_chain = LLMChain(llm=llm_chain,prompt=recipe_prompt)\n",
    "\n",
    "chain = SimpleSequentialChain(chains=[ingredients_chain,recipe_chain]) # SimpleSequentialChain gives the final output \n",
    "print(chain.run(dish)) "
   ]
  },
  {
   "cell_type": "code",
   "execution_count": 114,
   "id": "b9c30e55-8a63-4ca1-9e02-3349bdeafc4a",
   "metadata": {},
   "outputs": [
    {
     "name": "stdout",
     "output_type": "stream",
     "text": [
      "\n",
      "\n",
      "- 2 lbs chicken, cut into bite-sized pieces\n",
      "- 2 cups basmati rice\n",
      "- 1 large onion, thinly sliced\n",
      "- 2 cloves garlic, minced\n",
      "- 1 inch ginger, grated\n",
      "- 1 cup plain yogurt\n",
      "- 1 tsp cumin powder\n",
      "- 1 tsp coriander powder\n",
      "- 1 tsp garam masala\n",
      "- 1 tsp turmeric powder\n",
      "- 1 tsp red chili powder\n",
      "- 1 tsp salt\n",
      "- 1/4 cup vegetable oil\n",
      "- 2 bay leaves\n",
      "- 4 cardamom pods\n",
      "- 4 cloves\n",
      "- 1 cinnamon stick\n",
      "- 1 cup water\n",
      "- Fresh cilantro and mint leaves, chopped for garnish\n",
      "- Fried onions for garnish (optional)\n"
     ]
    }
   ],
   "source": [
    "print(ingredients_chain.run('Chicken biryani')) # This output should have come first and then "
   ]
  },
  {
   "cell_type": "markdown",
   "id": "2e47f0a9-8764-45a7-97bb-1d31393f5087",
   "metadata": {},
   "source": [
    "#### Sequential Chain"
   ]
  },
  {
   "cell_type": "code",
   "execution_count": 115,
   "id": "fe019336-c431-42ba-a895-737303ed9bc0",
   "metadata": {},
   "outputs": [],
   "source": [
    "from langchain.chains import SequentialChain"
   ]
  },
  {
   "cell_type": "code",
   "execution_count": 135,
   "id": "4f6fded8-63fb-4fbb-aa41-ebd94b96b933",
   "metadata": {},
   "outputs": [
    {
     "name": "stdout",
     "output_type": "stream",
     "text": [
      "Top 20 cuisuines around the world are :  \n",
      "\n",
      "1. Italian\n",
      "2. Chinese\n",
      "3. Mexican\n",
      "4. Japanese\n",
      "5. Indian\n",
      "6. French\n",
      "7. Thai\n",
      "8. Spanish\n",
      "9. Greek\n",
      "10. American\n",
      "11. Mediterranean\n",
      "12. Korean\n",
      "13. Vietnamese\n",
      "14. Lebanese\n",
      "15. Turkish\n",
      "16. Brazilian\n",
      "17. Moroccan\n",
      "18. Caribbean\n",
      "19. Ethiopian\n",
      "20. Peruvian\n"
     ]
    }
   ],
   "source": [
    "top_20_cuisuines = llm.predict(\"Give list of popular 20 cuisuines \")\n",
    "print(\"Top 20 cuisuines around the world are : \",top_20_cuisuines)"
   ]
  },
  {
   "cell_type": "code",
   "execution_count": 138,
   "id": "d9cb0895-e11f-4c52-8dc8-4032611daeb9",
   "metadata": {},
   "outputs": [
    {
     "name": "stdout",
     "output_type": "stream",
     "text": [
      "Top 20 dishes in indian are :  \n",
      "\n",
      "1. Butter Chicken\n",
      "2. Biryani\n",
      "3. Tandoori Chicken\n",
      "4. Samosas\n",
      "5. Palak Paneer\n",
      "6. Dal Makhani\n",
      "7. Rogan Josh\n",
      "8. Chole Bhature\n",
      "9. Masala Dosa\n",
      "10. Chicken Tikka Masala\n",
      "11. Aloo Gobi\n",
      "12. Naan\n",
      "13. Malai Kofta\n",
      "14. Vada Pav\n",
      "15. Pav Bhaji\n",
      "16. Hyderabadi Biryani\n",
      "17. Chicken Korma\n",
      "18. Pani Puri\n",
      "19. Ras Malai\n",
      "20. Gulab Jamun\n"
     ]
    }
   ],
   "source": [
    "cuisuine = \"indian\"\n",
    "cuisuine_prompt = PromptTemplate(input_variables=['cuisuine'],template = 'Give me 20 popular dishes from {cuisuine} cuisuine ')\n",
    "cuisuine_chain = LLMChain(prompt=cuisuine_prompt,llm=llm)\n",
    "top_20_dishes = cuisuine_chain.run(cuisuine)\n",
    "print(f\"Top 20 dishes in {cuisuine} are : \",top_20_dishes)"
   ]
  },
  {
   "cell_type": "code",
   "execution_count": 131,
   "id": "89e01615-59bb-4351-b27b-1100399f628c",
   "metadata": {},
   "outputs": [
    {
     "name": "stdout",
     "output_type": "stream",
     "text": [
      "chicken Tikka \n",
      "\n",
      "Ingredients :  \n",
      "\n",
      "1. Boneless chicken breast - 1 pound\n",
      "2. Yogurt - 1/2 cup\n",
      "3. Lemon juice - 2 tablespoons\n",
      "4. Ginger paste - 1 tablespoon\n",
      "5. Garlic paste - 1 tablespoon\n",
      "6. Garam masala - 1 teaspoon\n",
      "7. Paprika - 1 teaspoon\n",
      "8. Cumin powder - 1 teaspoon\n",
      "9. Coriander powder - 1 teaspoon\n",
      "10. Turmeric powder - 1/2 teaspoon\n",
      "11. Red chili powder - 1/2 teaspoon\n",
      "12. Salt - 1 teaspoon\n",
      "13. Vegetable oil - 2 tablespoons\n",
      "14. Skewers - 4-6\n",
      "15. Chopped cilantro - for garnish (optional) \n",
      "\n",
      "Recipe :  \n",
      "\n",
      "Step 1: Marinate the chicken\n",
      "- In a large bowl, mix together 1 cup of plain yogurt, 2 tablespoons of lemon juice, 2 teaspoons of minced garlic, 2 teaspoons of grated ginger, 1 teaspoon of cumin powder, 1 teaspoon of coriander powder, 1 teaspoon of paprika, 1 teaspoon of garam masala, and 1/2 teaspoon of turmeric.\n",
      "- Add 1.5 pounds of boneless, skinless chicken breast cut into bite-sized pieces to the marinade and mix well.\n",
      "- Cover the bowl with plastic wrap and let it marinate in the refrigerator for at least 2 hours, or overnight for best results.\n",
      "\n",
      "Step 2: Prepare the skewers\n",
      "- If using wooden skewers, soak them in water for at least 30 minutes to prevent them from burning.\n",
      "- Preheat your grill to medium-high heat.\n",
      "\n",
      "Step 3: Skewer the chicken\n",
      "- Thread the marinated chicken pieces onto the skewers, leaving a little space between each piece.\n",
      "- Discard any excess marinade.\n",
      "\n",
      "Step 4: Grill the chicken\n",
      "- Place the skewers on the preheated grill and cook for 8-10 minutes, turning occasionally, until the chicken is cooked through and slightly charred on the outside.\n",
      "\n",
      "Step 5: Serve the chicken Tikka\n",
      "- Remove the skewers from the grill and let them rest for a few minutes.\n",
      "- Serve the chicken Tikka hot with your choice of sides, such as rice, naan bread, or a salad.\n",
      "- Optional: Garnish with chopped cilantro and a squeeze of lemon juice for extra flavor.\n",
      "\n",
      "Enjoy your delicious chicken Tikka!\n"
     ]
    }
   ],
   "source": [
    "dish = 'chicken Tikka'\n",
    "\n",
    "ingredients_prompt = PromptTemplate(input_variables=['dish'],template=\"\"\"What ingredients are needed to make {dish} along with the quantity. \\\n",
    "                                                                        Only mention the ingredients and quantity\"\"\")\n",
    "\n",
    "ingredients_chain = LLMChain(llm=llm_chain,prompt=ingredients_prompt,output_key=\"ingredients\")\n",
    "\n",
    "recipe_prompt = PromptTemplate(input_variables=['dish'],template=\"Write down the recipe in steps to make delicious {dish}\")\n",
    "recipe_chain = LLMChain(llm=llm_chain,prompt=recipe_prompt,output_key=\"recipe\")\n",
    "\n",
    "chain = SequentialChain(chains=[ingredients_chain,recipe_chain], \n",
    "                        input_variables=[\"dish\"],\n",
    "                        output_variables=['ingredients','recipe'])\n",
    "op = chain(dish)\n",
    "\n",
    "print(op['dish'],\"\\n\\nIngredients : \",op['ingredients'],\"\\n\\nRecipe : \",op['recipe'])"
   ]
  },
  {
   "cell_type": "markdown",
   "id": "e25cd63b-2dba-48f1-9839-64721d43313b",
   "metadata": {},
   "source": [
    "# Document Loader"
   ]
  },
  {
   "cell_type": "code",
   "execution_count": 139,
   "id": "d870823e-3023-49d8-b225-0c3931c16609",
   "metadata": {},
   "outputs": [
    {
     "name": "stdout",
     "output_type": "stream",
     "text": [
      "Collecting pypdf\n",
      "  Downloading pypdf-3.17.4-py3-none-any.whl.metadata (7.5 kB)\n",
      "Downloading pypdf-3.17.4-py3-none-any.whl (278 kB)\n",
      "   ---------------------------------------- 0.0/278.2 kB ? eta -:--:--\n",
      "   ---------------------------------------- 278.2/278.2 kB 8.6 MB/s eta 0:00:00\n",
      "Installing collected packages: pypdf\n",
      "Successfully installed pypdf-3.17.4\n"
     ]
    }
   ],
   "source": [
    "#!pip install pypdf"
   ]
  },
  {
   "cell_type": "code",
   "execution_count": 140,
   "id": "8cccc552-8b55-494d-9cb8-730873a9fa09",
   "metadata": {},
   "outputs": [],
   "source": [
    "from langchain.document_loaders import PyPDFLoader"
   ]
  },
  {
   "cell_type": "code",
   "execution_count": 141,
   "id": "0f2a70f2-1f9f-4294-8cf6-bb094f1f5398",
   "metadata": {},
   "outputs": [],
   "source": [
    "loader = PyPDFLoader('MachineTranslationwithAttention.pdf')\n",
    "pages = loader.load_and_split()"
   ]
  },
  {
   "cell_type": "code",
   "execution_count": 142,
   "id": "ced3dff8-15e0-4cfb-b1d1-7d255aacb252",
   "metadata": {},
   "outputs": [
    {
     "data": {
      "text/plain": [
       "[Document(page_content='See discussions, st ats, and author pr ofiles f or this public ation at : https://www .researchgate.ne t/public ation/355917108\\nNeu ral Machine T ranslation with Attention\\nTechnic al R eport  · August 2021\\nDOI: 10.13140/RG.2.2.29381.37607/1\\nCITATIONS\\n0READS\\n935\\n2 author s:\\nMohammad W asil Saleem\\nUniv ersität P otsdam\\n3 PUBLICA TIONS \\xa0\\xa0\\xa00 CITATIONS \\xa0\\xa0\\xa0\\nSEE PROFILE\\nSandeep Upr ety\\nUniv ersität P otsdam\\n1 PUBLICA TION \\xa0\\xa0\\xa00 CITATIONS \\xa0\\xa0\\xa0\\nSEE PROFILE\\nAll c ontent f ollo wing this p age was uplo aded b y Sandeep Upr ety on 05 No vember 2021.\\nThe user has r equest ed enhanc ement of the do wnlo aded file.', metadata={'source': 'MachineTranslationwithAttention.pdf', 'page': 0}),\n",
       " Document(page_content='Neural Machine Translation with Attention\\nMohammad Wasil Saleem\\nMatrikel-Nr.: 805779\\nUniversit ¨at Potsdam\\nsaleem1@uni-potsdam.deSandeep Uprety\\nMatrikel-Nr. 804982\\nUniversit ¨at Potsdam\\nuprety@uni-potsdam.de\\nAbstract\\nIn recent years, the success achieved\\nthrough neural machine translation has\\nmade it mainstream in machine translation\\nsystems. In this work, encoder-decoder\\nwith attention system based on ”Neural\\nMachine Translation by Jointly Learning\\nto Align and Translate” by Bahdanau et al.\\n(2014) has been used to accomplish the\\nMachine Translation between English and\\nSpanish Language which has not seen\\nmuch research work done as compared\\nto other languages such as German and\\nFrench. We aim to demonstrate the re-\\nsults similar to the breakthrough paper on\\nwhich our work is based on. We achieved\\na BLEU score of 25.37, which was close\\nenough to what Bahdanau et al. (2014)\\nachieved in their work.\\n1 Introduction\\nMachine Translation (MT) is the task of translat-\\ning text without human assistance while preserv-\\ning the meaning of input text. The early approach\\nto machine translation relied heavily on hand-\\ncrafted translation rules and linguistic knowledge.\\nStarted in early around 1950s, unlike rule-based\\nmachine translation, Statistical machine transla-\\ntion (SMT) generated translations based on statis-\\ntical models whose parameters are derived from\\nthe analysis of bilingual text corpora (Koehn et al.,\\n2003). Though reliable, for SMT, it can be hard\\nto ﬁnd content for obscure languages and is less\\nsuitable for language pairs with big differences\\nin word order making the quality of translation\\nfar from satisfactory. With the progress in deep\\nlearning being applied to MT, in 2014, end-to-end\\nneural network translation model was proposed\\nby (Bahdanau et al., 2014; Sutskever et al., 2014)\\nwhere the term ”neural machine translation” wasformally used. Neural machine translation (NMT)\\nis the newest method of MT that uses a single\\nlarge neural network to model the entire transla-\\ntion process, freeing the need for excessive fea-\\nture engineering. Through the rapid research and\\nbreakthroughs, end-to-end neural machine trans-\\nlation has gained remarkable performances (Shi\\net al., 2021; Bahdanau et al., 2014) and have be-\\ncome mainstream approach to MT.\\n2 Related Work\\nEarly problem of NMT was often the poor trans-\\nlation for long sentences (Sutskever et al., 2014)\\nwhich can be attributed to the ﬁxed-length of\\nsource encoding in conventional encoder-decoder\\nas suggested by Cho et al. (2014a) for which the\\nconcept of attention to NMT was introduced by\\nBahdanau et al. (2014) to avoid keeping a ﬁxed\\nsource side representation.\\nAs compared to separately tuned components in\\nSMT, newly emerging Neural Machine translation\\nradically departures from previous machine learn-\\ning approaches as the training of NMT is end-to-\\nend which has signiﬁcantly improved translation\\nquality across 30 different languages (Junczys-\\nDowmunt et al., 2016). NMT model can be attrac-\\ntive for various reason one being scalability issue,\\nwhether it be memory requirements or computa-\\ntional speed. Another being able to train all the\\ncharacter embedding as each characters frequently\\noccurs in the training corpus.\\nMost neural machine translation models pro-\\nposed use encoder-decoder where a neural net-\\nwork reads and encodes a source sentence into\\na ﬁxed-length vector and a decoder then outputs\\na translation from the encoded vector, where in\\nmost of the cases the encoder and decoder are\\nmainly implemented as RNNs, CNNs or self-\\nattention network (Wu et al., 2018). The whole\\nencoder–decoder system, which consists of the\\nencoder and the decoder for a language pair, is', metadata={'source': 'MachineTranslationwithAttention.pdf', 'page': 1}),\n",
       " Document(page_content='jointly trained to maximize the probability of a\\ncorrect translation given a source sentence (Bah-\\ndanau et al., 2014). After the initial proposal by\\n(Sutskever et al., 2014; Bahdanau et al., 2014),\\nmuch work has been done on the sequence-to-\\nsequence neural machine translation model rang-\\ning from new attention mechanism (Luong et al.,\\n2015) to working on the problem of out-of-\\nvocabulary words (Jean et al., 2015) for which se-\\nquential RNNs are used both for encoding source\\nsentences and generating target translation.\\nWe draw our inspiration for machine transla-\\ntion with attention from Bahdanau et al. (2014).\\nWe have chosen to base our project on this paper\\nas attention mechanism has been widely used as\\nbaseline and is thoroughly studied among the NLP\\ncommunity.\\n3 Model\\nMachine Translation is equivalent to maximizing a\\nconditional probability of a target sentence given\\nthe source sentence. In Neural Machine Trans-\\nlation, we parameterize it to maximise the condi-\\ntional probability. The approach used by Cho et al.\\n(2014b) was to encode the source sentence into\\na ﬁxed-length vector, which becomes difﬁcult to\\ncompress all the necessary information into a ﬁxed\\nlength vector, which makes it difﬁcult for the Neu-\\nral Network to handle long sentences, and thus the\\nperformance of the encoder-decoder drops as the\\nlength of the sentences increases. So we use the\\nmodel proposed by Bahdanau et al. (2014), where\\nit does not encode the input sentence into a ﬁxed-\\nlength vector, rather than it simply encodes the in-\\nput sentence into sequence of vectors, and while\\ndecoding the translation, it select subset of vectors\\nfrom the using attention mechanism. And Bah-\\ndanau et al. (2014) showed that encoder decoder\\nmodel with attention mechanism cope better with\\nlong sentences. In the next section, we will ﬁrst\\ngive a brief introduction on encoder-decoder, the\\nRNN, and one of its type, GRU, the one we used\\nin our model and ﬁnally the attention mechanism.\\n3.1 Encoder-Decoder\\nEncoder-Decoder, ﬁrst proposed by Cho et al.\\n(2014b), basically consists of 2 parts, the encoder\\nand the decoder. Encoder codes the sequence\\nof input sentence into dense vector representa-\\ntion, and then decoder takes in the encoded sen-\\ntence and decode the representation into anothersequences of words. They are trained to maximize\\nthe conditional probability of the output sentence,\\ngiven the input sentence.\\nRNN is necessary when we need to maintain the\\nword order in a sentence. This is not handled by\\nbags of words model or other statistical models. In\\naddition to input, xiand output ˆyi, we also have a\\nstate vector, ai, which is initialized with vectors of\\nzeros.iwould be the ithtimestep In the ﬁrst layer\\nof RNN, the input and state vector is fed into the\\nrecurrent unit, the recurent unit may look like1:\\nat=f(Waaat−1+Waxxi),\\nand,\\nˆyt=g(Wyaat)\\nwhere, t is the time step, Waais the weights be-\\ntween two hidden layer, Waxis the weight be-\\ntween input and hidden layer, and Wyais the\\nweight between hidden and the output layer, and\\nfcan betanh orRelu activation function, and g\\ncan besigmoid orsoftmax activation function.\\nAfter feeding the input to rnn unit, it returns a new\\nstate vector in the next time step. This new state\\nvector will be mapped to the output vector using\\nsome function. This output vector can be used as\\na prediction. The new state vector is cached and is\\npassed across the next unit of the RNN, along with\\nthe input in order for it to return the next state vec-\\ntor. This happens recursively for all the input ele-\\nments. So, when the model is reading the second\\nword, instead of just predicting output using only\\nthe second word, it also gets information from the\\nprevious time step (ﬁrst word) in terms of the state\\nvector.\\nOne of the problem of RNN is that it runs into\\nthe problem of Vaishing gradient, ﬁrst described\\nby Hochreiter (1998). This happens when we have\\na very long sentence, which tends to have long\\nterm dependencies. That means a word at the end', metadata={'source': 'MachineTranslationwithAttention.pdf', 'page': 2}),\n",
       " Document(page_content='the problem of Vaishing gradient, ﬁrst described\\nby Hochreiter (1998). This happens when we have\\na very long sentence, which tends to have long\\nterm dependencies. That means a word at the end\\nof the sentence would be semantically dependent\\non the word occurring at the beginning of the sen-\\ntence. So, the gradients during the backpropaga-\\ntion step would have a very hard time propagating\\nback to affect the words or weights of the earlier\\nunits. The gradients diminishes in the backpropa-\\ngation step and not able to reach the earlier units.\\nGenerally, RNN has local inﬂuences where a word\\nis mainly inﬂuenced by words closed to it. So that\\nmakes it difﬁcult for the output at the later unit\\n1https://www.coursera.org/learn/nlp-sequence-\\nmodels/home/welcome', metadata={'source': 'MachineTranslationwithAttention.pdf', 'page': 2}),\n",
       " Document(page_content='Figure 1: The left diagram represents Long Short Term Memory Unit, with ias an Input gate, oas an\\nOutput Gate, and fas a Forget Gate. The right diagram represents Gated Recurrent Unit, with ras Reset\\nGate, andzas an Update Gate. (Chung et al., 2014)\\nto be strongly inﬂuenced by a word that was very\\nearly in the sequence.\\nBut we can further improve the training by us-\\ning other RNN units, like GRU (Chung et al.,\\n2014) or LSTM (Hochreiter and Schmidhuber,\\n1997), which are better at capturing long-range de-\\npendencies. The state vector in simple RNN can\\nbe considered as a memory, where the memory ac-\\ncess was not controlled. At each step, the entire\\nmemory state was read and updated. But in GRU\\nand LSTM, we use a gating mechanism to control\\nthe memory. Since, we used GRU in our model,\\nso we will only describe GRU here.\\nIn GRU, (Chung et al., 2014; Rana, 2016), the\\nactivationhj\\ntis a linear interpolation between the\\nprevious activation hj\\nt−1and the candidate ativa-\\ntion˜hj\\nt:\\nhj\\nt= (1−zj\\nt)hj\\nt−1+zj\\nt˜hj\\nt\\nwhere,zj\\ntis the update gate, that decides how\\nmuch GRU units updates its activation [See Fig.\\n1]. The update gate is given by :\\nzj\\nt=σ(Wzxt+Uzht−1)j.\\nAnd the candidate activation ˆhj\\ntis computed by :\\nˆhj\\nt=tanh (Wx t+U(rt⊙ht−1))j,\\nwhere⊙denotes element-wise multiplication and\\nrj\\ntare reset gates. When a reset gate at speciﬁc\\ntime, t is set to 0, i.e. rj\\nt== 0 , which makes the\\nGRU to forget the past, i.e. forget the previousstate vectors. This is considered same as reading\\nthe ﬁrst word of the input sentence. And ﬁnally,\\nwe can compute the reset gate by :\\nrj\\nt=σ(Wrxt+Urht−1)j.\\nOne of the weakness of RNN is that it only uses\\ninformation that is earlier in the sequence to make\\npredictions but not the information which are later\\nin the sequence. When predicting the output at\\ntime step i, it does not use the word at time step i+1\\nor i+2 or any other words in the later time step. So,\\nit would be useful to know not just the information\\nfrom the words from the previous time step but\\nalso the information from the later time steps.\\nSo, we use Bidirectional RNN, ﬁrst proposed\\nby (Schuster and Paliwal, 1997). From a point\\nin time, it takes information from both the ear-\\nlier and later time step in the sequence. The\\nFirst RNN, which we called forward RNN,− →fis\\nfed the input sequence as it is. And the second\\nRNN, which is also called backward RNN,← −f\\nis fed the input sequence in reverse order. This\\ngives two separate state vectors – a forward state\\nvector,− →hT\\nj, and a backward state vector← −hT\\nj.\\n− →hT\\njwould be a sequence of forward hidden state\\nvectors, (− →h1,...,− →hTx), and similarly, backward\\nstate vector← −hT\\njwould be a sequence of backward\\nhidden state vector, (← −h1,...,← −hTx). And the out-\\nput at a speciﬁc timestep is accounted by the con-\\ncatenation of output of two RNN’s, concatenating− →hjand← −hj, i.e.hj= [− →hT\\nj,← −hT\\nj]. So, when pre-\\ndicting the output at a speciﬁc time step, it will', metadata={'source': 'MachineTranslationwithAttention.pdf', 'page': 3}),\n",
       " Document(page_content='Figure 2: Attention Model (Luong et al., 2015)\\nuse the information from the past, present as well\\nas from the future. We need the entire sequence of\\ndata before we can make any predictions.\\nThe architecture that we are proposing here is\\nbased on the Encoder-Decoder Framework. The\\nencoder takes in the input sentence and converts\\nthem into a vector representation\\nThe encoder can be an RNN (Cho et al., 2014b)\\nor LSTM unit (Sutskever et al., 2014). They pro-\\ncesses the input sentence, pass it through RNN or\\nLSTM, and when it encounters the end of sen-\\ntence, then the hidden state, that captured all the\\nrelevant information passes it to the decoder. Then\\nthis information is used to predict the translations\\nin the decoder, which can be RNN or LSTM, until\\nit predicts the end of the sentence token. The hid-\\nden state needs to remember every word from the\\ninput sentence. So that is why this model tends to\\nwork for short sentences and not long sentences.\\nEven though if we used LSTM or GRU, which\\ntends to remember the words that occured very\\nearly in the sequence, it will still not be able to\\nlearn the alignment between the source word and\\nthe target word. They often forget the initial part\\nof the sentence once they are processed in the en-\\ncoder. That is why we use an alignment mecha-\\nnism called attention. They help to memorize this\\ninformation for longer sentences. But we need to\\nlearn this alignment. It can vary from language to\\nlanguage.3.2 Attention\\nIn this section, we will speciﬁcally deﬁne the\\nalignment mechanism, [See Figure 2] that we used\\nin our model. In RNN Encoder-Decoder model\\n(Sutskever et al., 2014), we faced with the bottle-\\nneck problem, where the complete sequence of in-\\nformation of the source sentence, must be captured\\nby one single vector, i.e. the last hidden unit of the\\nencoder RNN is used as a context vector for the\\ndecoder, which becomes difﬁcult for the decoder\\nto summarise large input sequence at once. This\\nalso poses a problem where the encoder is not able\\nto memorize the words coming at the beginning\\nof the sentences, which leads to poor translation\\nof the source sentence. The Attention mechanism\\njust addresses this issue, by retaining and utilising\\nall the hidden state of the input sentence during the\\ndecoding phase.\\nDuring the decoding phase, the model creates\\nan alignment between each time step of the de-\\ncoder output and all of the encoder hidden state.\\nWe need to learn this alignment. Each output of\\nthe decoder can selectively pick out speciﬁc ele-\\nments from the sequence to produce the output.\\nSo, this allows the model to focus and pay more\\n”Attention” to the relevant part of the input se-\\nquence.\\nThe ﬁrst attention model was proposed by Bah-\\ndanau et al. (2014), there are several other types of\\nattention proposed, such as the one by Luong et al.', metadata={'source': 'MachineTranslationwithAttention.pdf', 'page': 4}),\n",
       " Document(page_content='Spanish en la estrategia 2020 , reconocimos el hecho de que , si queremos mantener nuestro\\nnivel de prosperidad en europa , tenemos que aumentar nuestra productividad .\\nEnglish in the 2020 strategy , we acknowledged the fact that , if we are to maintain our level\\nof prosperity in europe , we need to increase our productivity .\\nSpanish sin embargo , es algo que debemos hacer si queremos demostrar a los estados unidos\\nque nos deben considerar como un socio serio en la alianza contra el terrorismo .\\nEnglish yet do it we must , if we are to demonstrate to the usa that we are to be taken\\nseriously as a partner in an alliance against terrorism .\\nSpanish sabr´an ustedes que fue tambi ´en a instancias de esta c ´amara que la comisi ´on entabl ´o\\nnegociaciones , y estas han dado un resultado encomiable .\\nEnglish you will be aware that it was not least at the insistence of this house that the com-\\nmission entered into negotiations , and these have produced a creditable result .\\nTable 1: Examples of Spanish and English sentences from the dataset\\n(2015).\\nWe will only discuss the attention model, pro-\\nposed by Bahdanau et al. (2014). After the in-\\nput sequence is passed through the encoder, it pro-\\nduces hidden state for each of the elements in the\\nsequence (h1,...,h Tx). Then we multiply the de-\\ncoders hidden state at time step t (s1,...,s Ty),\\nwith all of the encoders hidden state, which gives\\nus the alignment score of each of the encoder out-\\nput with respect to the decoder input and hidden\\nstate at that time step:\\net= [sT\\nth1,...,sT\\nthTx]\\nThe alignment score quantiﬁes the amount of\\nAttention the decoder will place on each of the en-\\ncoder outputs when producing the next output, so\\ninstead of looking at the entire sequence, it just\\nconcentrate on few relevant parts of the sequence\\nwhen predicting the next word.\\nAfter calculating the alignment score, we pass\\nthe vectoretthrough the softmax layer, to calcu-\\nlate the probability distribution.\\nαt=softmax (et)\\nThen we multiply each of the attention weights\\nwith each of the encoder hidden state, to get con-\\ntext vector,at\\nat=Tx∑\\ni=1αt\\nihi\\nIf the attention score of speciﬁc element of the\\ninput sequence is close to 1, then its inﬂuence on\\nthe decoder output at that speciﬁc time step in-\\ncreases. And then ﬁnally, the context vector atproduced will be concatenated with the decoder\\nhidden state, st, i.e.\\n˜ht= [at,st]\\nand is fed into decoder RNN, which produces new\\nhidden state.\\n4 Data\\nWe used a Parallel Corpus for English-Spanish\\nlanguage, which was extracted from the proceed-\\nings of the European Parliament, also called Eu-\\nroparl dataset (Koehn, 2005). It contains 1.96\\nMillion sentences, each for English and Spanish.\\nMost common words and count for both languages\\nare shown below:\\nWords Count\\nde 1799827\\n, 1456229\\nla 1222089\\nque 992176\\n. 867284\\nen 790382\\nel 696521\\ny 692640\\na 577052\\nlos 548495\\nTable 2: SpanishWords Count\\nthe 1956558\\n, 1371506\\nof 932044\\nto 875415\\n. 864674\\nand 747108\\nin 622426\\nthat 476250\\na 430093\\nis 401782\\nTable 3: English\\nFirst we ﬁlter out all the sentences having words\\ngreater than 50. Then we sort these sentences\\nbased on the number of words in each of the sen-\\ntences, so that we have less padded sentences in\\nour initial indices and sentences with high padding\\nto be at the end of our indices, following with', metadata={'source': 'MachineTranslationwithAttention.pdf', 'page': 5}),\n",
       " Document(page_content='usual tokenization methods. Only preprocessing\\nwe used was to lower case the words.\\nWe selected 1 million sentences for the model-\\ning due to the hardware constraints. We split the\\ndataset into usual format, i.e. train, test and vali-\\ndation. We used 900K sentences for our training,\\n80K for validation and remaining 20K sentences\\nfor the test set, which was not seen by the model\\nduring training. We did not limit the vocabulary\\nsize to any hard coded number, i.e. to get top N\\nmost frequent words. The vocabulary size we got\\nfrom English sentences was 36838 and for Span-\\nish was 63220. Only token we added was End of\\nSentence and Start of Sentence Tokens. We used\\nSpanish as a source sentence and English as a tar-\\nget sentence. See Table 1.\\n5 Experiments\\nThe encoder and decoder of our model have 256\\nhidden units each. The encoder consist of for-\\nward and backward gated recurrent unit (GRU)\\neach having 256 hidden units. The decoder has\\na single forward gated recurrent unit (GRU), with\\n256 hidden dimensions, unlike 1000 hidden units,\\nas in Bahdanau et al. (2014) due to the hardware\\nlimitations. And we only trained the model for\\nSpanish to English translation.\\nWe used Adam optimizer to train the model, and\\ngradient update is computed with a batch size of\\n32 sentences.\\nWe initialized our weights with xavier (Glo-\\nrot) initializations, (Glorot and Bengio, 2010) with\\nUniform Distribution, U[−a,a], where\\na=√\\n6\\nnin+nout\\nwhereninis the number of input neurons in the\\nweight tensor, and noutis the number of output\\nneurons in the weight tensor.\\nThe total number of trainable parameters were\\n43,564,519. We trained the model for roughly 20\\nhours. After our model was trained, we use greedy\\nsearch to predict the translation for the given input\\nsentence, that maximizes the conditional proba-\\nbility instead of using beam search as mentioned\\nin the paper Bahdanau et al. (2014) due to our\\nunfamiliarity and technical difﬁculty dealing with\\nBeam search.\\nWe, then used BLEU (Papineni et al., 2002)\\nscore to evaluate how the model was working on\\nthe test data.6 Results\\n6.1 Quantitative Results\\nWe trained our model on maximum length of 50\\nsentences, so any length smaller than or equal to\\n50 is used for the training, We trained our model\\nuntil the error on the validation data or the devel-\\nopment data stops decreasing, in order to avoid\\nthe problem of overﬁtting. We achieved a BLUE\\nscore of 25.76on the test data and the error rate for\\nSpanish to English translation was 4.267 on our\\ntest data. According to Bahdanau et al. (2014), we\\ncan say that our model out perform the encoder\\ndecoder model, proposed by Cho et al. (2014b),\\nfor 50 sentences, where they got BLEU score of\\n17.82. Their performance drops when the length\\nof the sentence is increased (Cho et al., 2014b).\\nSo, the limitation of using ﬁxed length vector\\nin simple encoder decoder model in Cho et al.\\n(2014b) work was the reason that it was under per-\\nforming with long sentences.\\nThis was our motivation to use the proposed ap-\\nproach by Bahdanau et al. (2014), where the per-\\nformance of the encoder-decoder with attention\\nshows no deterioration with sentence of length\\ngreater than 50 sentences. The result that we\\ngot which was 25.76 was quite close to the Bah-\\ndanau et al. (2014), where they got BLEU score of\\n26.75,training with 1000 encoder and decoder di-\\nmensions, and training on corpus of 384M words.\\nThey were also able to achieve BLEU score of\\n28.45 when trained the data until the performance\\nof the validation stopped improving.\\n6.2 Qualitative Results\\nThe model proposed by Bahdanau et al. (2014)\\nprovides a way to investigate the soft alignment\\nbetween the translated sentence from the model\\nand the input sentence. The matrix given in Fig\\n3, each of the cells represent the weights αijof\\nthe annotation of the j-th source word for the i-\\nth target word. This helps in visualizing and see\\nwhich word from the input sentence were con-\\nsidered more important for generating the target\\nword.', metadata={'source': 'MachineTranslationwithAttention.pdf', 'page': 6}),\n",
       " Document(page_content='the annotation of the j-th source word for the i-\\nth target word. This helps in visualizing and see\\nwhich word from the input sentence were con-\\nsidered more important for generating the target\\nword.\\nWe see that majority of the weights are con-\\ncentrated on the diagonal matrix, along with non-\\nmonotonic alignments. The non-monotonic align-\\nments would be high for long sentences, since the\\nwords in long target sentence tends to have depen-\\ndence on more than one word in source sentence.', metadata={'source': 'MachineTranslationwithAttention.pdf', 'page': 6}),\n",
       " Document(page_content='(a)\\n (b)\\n(c)\\n (d)\\nFigure 3: Alignments translated from Spanish to English by our model. The row represents the translated\\nsentence, English and the column represents the source sentence, Spanish. Each of the cells of the matrix\\nrepresents weights, αij, of the annotation of the j-th source word for the i-th translated word. (1:White,\\n0:Black)', metadata={'source': 'MachineTranslationwithAttention.pdf', 'page': 7}),\n",
       " Document(page_content='Let us take an example from the test set, con-\\nsider the source sentence:\\nson los estados miembros de la zona del\\neuro los que no han cumplido , en espe-\\ncialla republica federal de alemania que\\nse niega a mantener su promesa.\\nAnd its translation by our model is :\\nthat it is the member states of the euro\\narea which have not complied honour,\\nparticularly the federal republic of ger-\\nmany that refuses to keep their promise\\nto sustain their promise.\\nAnd the reference is:\\nit is the member states of the euro area\\nthat have not delivered - and particu-\\nlarly the federal republic of germany,\\nwhich is refusing to keep its promise.\\nWe can observe from our translated sentence,\\nthe model generates ”have not complied ” , instead\\nof”have not delivered” (from reference sentence),\\nwhich has the same meaning. It tries to preserve\\nthe meaning of the whole sentence, and it does not\\nblindly takes the word from the reference, it tries\\nto generalize.\\nRefer to Table 4 at the end of the paper for\\nmore translations from Spanish to English using\\nEncoder Decoder model with Attention Mecha-\\nnism.\\n7 Discussion\\nAfter trying to achieve the result similar to what\\nwas presented in the paper, we are satisﬁed with\\nour result though there is much that can be im-\\nproved. Limitation caused by the hardware held\\nus back from achieving better results. We used the\\nserver provided by the university and as a backup\\nused google colab for our work, so we had to be\\nwary of the maintenance schedule happening in\\nthe server and the limitation of 24 hrs of work-\\ntime on google colab, which otherwise could in-\\nterrupt while we were training our model. So,\\nto overcome these challenges we decided to use\\n1M sentences from each form Spanish and English\\ndataset, and reduce the parameters for encoder-\\ndecoder.\\nWe also faced problem with length of the vo-\\ncabulary size of English and Spanish sentences,\\nwhere the vocabulary size of the English sen-\\ntence were the output dimension, and vocabularysize of Spanish sentence were input dimensions of\\nour model. This leads to increase in number of\\ntrainable parameters, the decoding complexity in-\\ncreases with number of target words (vocabulary\\nsize of the English), where this problem has been\\naddressed by Jean et al. (2015).\\n8 Conclusion\\nThe approach proposed by Cho et al. (2014b) was\\nto encode the whole sentence into ﬁxed length vec-\\ntor, and this becomes problematic when dealing\\nwith long sentences. We extend this basic encoder-\\ndecoder model by an Attention mechanism (Bah-\\ndanau et al., 2014), where the model searches for\\nthe input word computed from the encoder, which\\nbest align with the target word, when generat-\\ning each target word. This frees the model from\\nhaving to encode the source sentence into a ﬁxed\\nlength vector, only rely on the information rele-\\nvant for generating each target word. We com-\\npared our model for Spanish to English translation\\nwith both of these approaches, and found that our\\nmodel works better than the encoder-decoder ap-\\nproach (Cho et al., 2014b), and have slightly lower\\nresults than the architecture with Attention mech-\\nanism, (Bahdanau et al., 2014). We also observed\\nthat the model tries to align the target word with\\nthe relevant word from the translated sentence.\\nIn the future work, there are several things we\\ncan try. We can train our model on much larger\\ndataset, with a better hardware and with differ-\\nent attention models. We can also focus on how\\nto handle the stop words, punctuation, as we can\\nsee on Table 2 and Table 3, which accounts for\\nthe highest word count, and also to handle the un-\\nknown words, which does not appear in the train-\\ning data, but in the test data.\\nReferences\\nDzmitry Bahdanau, Kyunghyun Cho, and Yoshua\\nBengio. Neural machine translation by jointly\\nlearning to align and translate. arXiv preprint\\narXiv:1409.0473 , 2014.\\nKyunghyun Cho, B. V . Merrienboer, Dzmitry\\nBahdanau, and Yoshua Bengio. On the\\nproperties of neural machine translation: En-', metadata={'source': 'MachineTranslationwithAttention.pdf', 'page': 8}),\n",
       " Document(page_content='learning to align and translate. arXiv preprint\\narXiv:1409.0473 , 2014.\\nKyunghyun Cho, B. V . Merrienboer, Dzmitry\\nBahdanau, and Yoshua Bengio. On the\\nproperties of neural machine translation: En-\\ncoder–decoder approaches. In SSST@EMNLP ,\\n2014a.\\nKyunghyun Cho, B. V . Merrienboer, C ¸ aglar\\nG¨ulc ¸ehre, Dzmitry Bahdanau, Fethi Bougares,', metadata={'source': 'MachineTranslationwithAttention.pdf', 'page': 8}),\n",
       " Document(page_content='Holger Schwenk, and Yoshua Bengio. Learn-\\ning phrase representations using rnn en-\\ncoder–decoder for statistical machine transla-\\ntion. In EMNLP , 2014b.\\nJ. Chung, C ¸ aglar G ¨ulc ¸ehre, Kyunghyun Cho, and\\nYoshua Bengio. Empirical evaluation of gated\\nrecurrent neural networks on sequence model-\\ning.ArXiv , abs/1412.3555, 2014.\\nXavier Glorot and Yoshua Bengio. Understanding\\nthe difﬁculty of training deep feedforward neu-\\nral networks. In AISTATS , 2010.\\nS. Hochreiter. The vanishing gradient problem\\nduring learning recurrent neural nets and prob-\\nlem solutions. Int. J. Uncertain. Fuzziness\\nKnowl. Based Syst. , 6:107–116, 1998.\\nS. Hochreiter and J. Schmidhuber. Long short-\\nterm memory. Neural Computation , 9:1735–\\n1780, 1997.\\nS´ebastien Jean, Kyunghyun Cho, R. Memisevic,\\nand Yoshua Bengio. On using very large tar-\\nget vocabulary for neural machine translation.\\nArXiv , abs/1412.2007, 2015.\\nMarcin Junczys-Dowmunt, Tomasz Dwojak, and\\nHieu Hoang. Is neural machine translation\\nready for deployment? a case study on 30 trans-\\nlation directions. 01 2016.\\nPhilipp Koehn. Europarl: A parallel corpus for\\nstatistical machine translation. In MTSUMMIT ,\\n2005.\\nPhilipp Koehn, Franz Josef Och, and Daniel\\nMarcu. Statistical phrase-based translation.\\nInProceedings of the 2003 Conference of the\\nNorth American Chapter of the Association\\nfor Computational Linguistics on Human Lan-\\nguage Technology - Volume 1 , NAACL ’03,\\npage 48–54, USA, 2003. Association for Com-\\nputational Linguistics. doi: 10.3115/1073445.\\n1073462. URL https://doi.org/10.\\n3115/1073445.1073462 .\\nThang Luong, Hieu Pham, and Christopher D.\\nManning. Effective approaches to attention-\\nbased neural machine translation. In EMNLP ,\\n2015.\\nKishore Papineni, S. Roukos, T. Ward, and Wei-\\nJing Zhu. Bleu: a method for automatic evalua-\\ntion of machine translation. In ACL, 2002.\\nR. Rana. Gated recurrent unit (gru) for emo-\\ntion classiﬁcation from noisy speech. ArXiv ,\\nabs/1612.07778, 2016.M. Schuster and K. Paliwal. Bidirectional recur-\\nrent neural networks. IEEE Trans. Signal Pro-\\ncess. , 45:2673–2681, 1997.\\nXuewen Shi, Heyan Huang, Ping Jian, and Yi-Kun\\nTang. Improving neural machine translation\\nwith sentence alignment learning. Neurocom-\\nputing , 420:15–26, 2021. ISSN 0925-2312. doi:\\nhttps://doi.org/10.1016/j.neucom.2020.05.104.\\nIlya Sutskever, Oriol Vinyals, and Quoc V . Le.\\nSequence to sequence learning with neural net-\\nworks. In NIPS , 2014.\\nShuangzhi Wu, Dongdong Zhang, Zhirui Zhang,\\nNan Yang, Mu Li, and M. Zhou. Dependency-\\nto-dependency neural machine translation.\\nIEEE/ACM Transactions on Audio, Speech, and\\nLanguage Processing , 26:2132–2141, 2018.', metadata={'source': 'MachineTranslationwithAttention.pdf', 'page': 9}),\n",
       " Document(page_content='Source se˜nor presidente , se ˜nor presidente en ejercicio del consejo , se ˜nor presidente de la\\ncomisi ´on , se ˜nor´ıas , me gustar ´ıa hacer tres breves comentarios .\\nReference mr president , mr president - in - ofﬁce of the council , mr president of the com-\\nmission , ladies and gentlemen , i would just like to make three brief comments\\n.\\nOur Model president mr president , mr president - in - ofﬁce of the council , mr president of\\nthe commission , ladies and gentlemen , i would like to make three brief comments\\nbrief comments .\\nGoogle Translate Mr. Chairman, Mr. Chairman-in-Ofﬁce of the Council, Mr. Chairman of the Com-\\nmittee, ladies and gentlemen, I would like to make three brief comments.\\nSource como los estados miembros , la comisi ´on procura promover el estado de derecho ,\\nsin el cual los derechos humanos no obtendr ´an reconocimiento en ning ´un territorio\\n.\\nReference the commission is involved , as are member states , in the promotion of the rule of\\nlaw , without which human rights can not operate in any territory .\\nOur Model that as the member states , the commission intends to promote the rule of law ,\\nwithout human rights will not not be any recognition in any territory in any territory\\n.\\nGoogle Translate Like the member states, the commission seeks to promote the rule of law, without\\nwhich human rights will not be recognized in any territory.\\nSource por escrito . - he votado a favor del informe de la se ˜nora fraga , que permite a\\ngroenlandia exportar productos pesqueros a la ue a pesar de no ser miembro .\\nReference in writing . - i voted in favour of ms fraga ’s report , which allows greenland to\\nexport ﬁshery products to the eu despite not being a member .\\nOur Model in writing . - i voted in favour of mrs fraga est ´evez ’s report , which allows greenland\\nexport export to export to the eu despite despite not being member .\\nGoogle Translate written . - i voted in favor of the report by mrs fraga, which allows greenland to\\nexport ﬁshery products to the eu despite not being a member.\\nSource ( pl ) se ˜nor presidente , me gustar ´ıa una vez m ´as manifestar mi satisfacci ´on por la\\nimportancia que la comunidad conﬁere a la necesidad de innovaci ´on en europa .\\nReference ( pl ) mr president , i would like once again to express my pleasure at the importance\\nthat the community attaches to the need for innovation in europe .\\nOur Model that ( pl ) mr president , i would once again like to express my satisfaction satis-\\nfaction that the community attaches to the community to the need for innovation in\\neurope .\\nGoogle Translate (pl) mr president, i would like once again to express my satisfaction with the impor-\\ntance that the community attaches to the need for innovation in europe.\\nSource son los estados miembros de la zona del euro los que no han cumplido , en especial\\nla rep ´ublica federal de alemania que se niega a mantener su promesa .\\nReference it is the member states of the euro area that have not delivered - and particularly the\\nfederal republic of germany , which is refusing to keep its promise .\\nOur Model that it is the member states of the euro area which have not complied honour ,\\nparticularly the federal republic of germany that refuses to keep their promise to\\nsustain their promise .\\nGoogle Translate it is the eurozone member states that have not delivered, especially the federal re-\\npublic of germany which refuses to keep its promise.\\nTable 4: Source and Reference form the test data, with translated sentence from our model along with\\nGoogle translation (as of 16 August 2021)\\nView publication stats', metadata={'source': 'MachineTranslationwithAttention.pdf', 'page': 10})]"
      ]
     },
     "execution_count": 142,
     "metadata": {},
     "output_type": "execute_result"
    }
   ],
   "source": [
    "pages"
   ]
  },
  {
   "cell_type": "code",
   "execution_count": null,
   "id": "7788a1b2-3daa-4f5c-82d6-9c2560512fbd",
   "metadata": {},
   "outputs": [],
   "source": []
  }
 ],
 "metadata": {
  "kernelspec": {
   "display_name": "Python 3 (ipykernel)",
   "language": "python",
   "name": "python3"
  },
  "language_info": {
   "codemirror_mode": {
    "name": "ipython",
    "version": 3
   },
   "file_extension": ".py",
   "mimetype": "text/x-python",
   "name": "python",
   "nbconvert_exporter": "python",
   "pygments_lexer": "ipython3",
   "version": "3.10.13"
  }
 },
 "nbformat": 4,
 "nbformat_minor": 5
}
