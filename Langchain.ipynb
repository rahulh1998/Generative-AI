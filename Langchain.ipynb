{
 "cells": [
  {
   "cell_type": "markdown",
   "id": "8b54b127-f691-4ce7-975d-4542a3018f80",
   "metadata": {},
   "source": [
    "# LangChain"
   ]
  },
  {
   "cell_type": "code",
   "execution_count": 1,
   "id": "15710ef2-26b7-46ed-8ad0-a9bd124e88b6",
   "metadata": {},
   "outputs": [
    {
     "name": "stdout",
     "output_type": "stream",
     "text": [
      "Current environment - TF\n",
      "Python Version : 3.10.13 | packaged by Anaconda, Inc. | (main, Sep 11 2023, 13:24:38) [MSC v.1916 64 bit (AMD64)]\n"
     ]
    }
   ],
   "source": [
    "from langchain.chains import LLMChain,SequentialChain,SimpleSequentialChain\n",
    "from langchain.llms import OpenAI\n",
    "from langchain.prompts import PromptTemplate\n",
    "import warnings \n",
    "warnings.filterwarnings(\"ignore\")\n",
    "import sys\n",
    "print(\"Current environment - \" + str(sys.prefix.split('\\\\')[-1]).upper())\n",
    "print(\"Python Version : \"+sys.version)"
   ]
  },
  {
   "cell_type": "code",
   "execution_count": 6,
   "id": "eebf569e-4cd0-4bc2-a5bd-b08ca4bd4330",
   "metadata": {},
   "outputs": [],
   "source": [
    "mykey = \"\""
   ]
  },
  {
   "cell_type": "code",
   "execution_count": 3,
   "id": "785115ea-c236-4581-8732-90c3dadd10c2",
   "metadata": {},
   "outputs": [],
   "source": [
    "llm = OpenAI(api_key=mykey,temperature=0.5)"
   ]
  },
  {
   "cell_type": "code",
   "execution_count": 13,
   "id": "6ce70bbb-b5cf-4b46-ad57-cc2d24ce47c2",
   "metadata": {},
   "outputs": [
    {
     "name": "stdout",
     "output_type": "stream",
     "text": [
      "\n",
      "To make a strong coffee, you will need:\n",
      "\n",
      "- 1 cup of water\n",
      "- 2 tablespoons of ground coffee\n",
      "\n",
      "Instructions:\n",
      "\n",
      "1. Boil the water in a pot or kettle.\n",
      "2. Measure out 2 tablespoons of ground coffee and place it in a coffee filter.\n",
      "3. Pour the hot water over the coffee grounds slowly, making sure to cover all of the grounds.\n",
      "4. Let the coffee steep for 3-4 minutes.\n",
      "5. Press the plunger down on a French press or use a spoon to press the coffee grounds to the bottom of the pot.\n",
      "6. Pour the coffee into a mug and enjoy your strong cup of coffee!\n",
      "\n",
      "Output: \n",
      "- 1 cup of water\n",
      "- 2 tablespoons of ground coffee\n",
      "- 3-4 minutes of steeping time\n"
     ]
    }
   ],
   "source": [
    "# Zero Shot Prompting\n",
    "text = f\"\"\"\n",
    "how to make a strong coffee \\\n",
    "give output using numbers \n",
    "\"\"\"\n",
    "print(llm.predict(text))"
   ]
  },
  {
   "cell_type": "code",
   "execution_count": 14,
   "id": "c6a030a0-c6fc-4e82-beb3-09e430b6d612",
   "metadata": {},
   "outputs": [
    {
     "name": "stdout",
     "output_type": "stream",
     "text": [
      "\n",
      "\n",
      "To set an environment variable in a Jupyter notebook, you can use the \"os\" module and the \"os.environ\" dictionary. Here is an example:\n",
      "\n",
      "1. Import the \"os\" module:\n",
      "```\n",
      "import os\n",
      "```\n",
      "\n",
      "2. Use the \"os.environ\" dictionary to set a new environment variable:\n",
      "```\n",
      "os.environ[\"VAR_NAME\"] = \"var_value\"\n",
      "```\n",
      "\n",
      "3. You can now access the environment variable using the \"os.getenv()\" function:\n",
      "```\n",
      "os.getenv(\"VAR_NAME\")\n",
      "```\n",
      "\n",
      "Note: The environment variable will only be available in the current Jupyter notebook session. To make it available in other sessions, you can set it in your .bashrc or .profile file. \n"
     ]
    }
   ],
   "source": [
    "print(llm.predict(\"How to environment variable  in the jupyter notebook?\"))"
   ]
  },
  {
   "cell_type": "code",
   "execution_count": 1,
   "id": "e3414ddd-433c-44e1-8357-7a27e32e74bc",
   "metadata": {},
   "outputs": [
    {
     "data": {
      "text/plain": [
       "'C:\\\\Users\\\\Rahul\\\\AppData\\\\Local\\\\anaconda3\\\\envs\\\\tf'"
      ]
     },
     "execution_count": 1,
     "metadata": {},
     "output_type": "execute_result"
    }
   ],
   "source": [
    "import sys\n",
    "sys.prefix"
   ]
  },
  {
   "cell_type": "code",
   "execution_count": 2,
   "id": "15cb8b46-3f23-4c8c-b043-b81b9ae72db4",
   "metadata": {},
   "outputs": [
    {
     "name": "stdout",
     "output_type": "stream",
     "text": [
      "TF\n"
     ]
    }
   ],
   "source": [
    "print(str(sys.prefix.split('\\\\')[-1]).upper())"
   ]
  },
  {
   "cell_type": "markdown",
   "id": "0818efa5-db17-473a-beae-e3d1dc6d709c",
   "metadata": {},
   "source": [
    "# Prompt Template"
   ]
  },
  {
   "cell_type": "code",
   "execution_count": 4,
   "id": "3add64d8-4393-4394-b751-7c8941044bdd",
   "metadata": {},
   "outputs": [],
   "source": [
    "from langchain.prompts import PromptTemplate\n",
    "template = PromptTemplate(input_variables = ['country'],\n",
    "                     template = 'Can you tell me the capital of the {country}')"
   ]
  },
  {
   "cell_type": "code",
   "execution_count": 6,
   "id": "6e9a2615-2e5b-4944-b7e9-a8e1aacdf052",
   "metadata": {},
   "outputs": [],
   "source": [
    "pt1 = template.format(country = \"Japan\")"
   ]
  },
  {
   "cell_type": "code",
   "execution_count": 9,
   "id": "d00a94f8-e482-4100-9335-dcd44028d25d",
   "metadata": {},
   "outputs": [
    {
     "name": "stdout",
     "output_type": "stream",
     "text": [
      "The capital of Japan is Tokyo.\n"
     ]
    }
   ],
   "source": [
    "print(llm.predict(pt1).strip())"
   ]
  },
  {
   "cell_type": "markdown",
   "id": "28373002-edc6-4309-9e49-4b57cd6ee76d",
   "metadata": {},
   "source": [
    "# Agents"
   ]
  },
  {
   "cell_type": "markdown",
   "id": "b1f8523c-17e7-4e0a-8f36-6afdcfff012c",
   "metadata": {},
   "source": [
    "Agents allow the llm to get the data from 3rd party apis "
   ]
  },
  {
   "cell_type": "code",
   "execution_count": 11,
   "id": "bc8b57ad-e848-435f-ba8d-a894b30abffc",
   "metadata": {},
   "outputs": [],
   "source": [
    "#!pip install google-search-results"
   ]
  },
  {
   "cell_type": "code",
   "execution_count": 6,
   "id": "046ca8a6-75b7-4eca-9380-3218502ae20e",
   "metadata": {},
   "outputs": [],
   "source": [
    "serpapi_key = \"\""
   ]
  },
  {
   "cell_type": "code",
   "execution_count": 7,
   "id": "e2d03250-5d88-40dd-b28c-9b192ccf3406",
   "metadata": {},
   "outputs": [],
   "source": [
    "from langchain.agents import AgentType,load_tools,initialize_agent"
   ]
  },
  {
   "cell_type": "code",
   "execution_count": 23,
   "id": "813ffd0f-024f-40aa-819d-89c45a35f509",
   "metadata": {},
   "outputs": [
    {
     "data": {
      "text/plain": [
       "'The AQI of Dalli Rajhara, Chhattisgarh this month is currently at a level of 396, which is considered to be in the severe range.'"
      ]
     },
     "execution_count": 23,
     "metadata": {},
     "output_type": "execute_result"
    }
   ],
   "source": [
    "# Step 1 : Create the llm object\n",
    "llm = OpenAI(api_key=mykey,temperature=0.2)\n",
    "\n",
    "# Step 2 : Create the tool\n",
    "tool = load_tools([\"serpapi\"],serpapi_api_key=serpapi_key,llm=llm)\n",
    "\n",
    "# Step 3 : Initializing the agent\n",
    "agent = initialize_agent(tool,llm,agent=AgentType.ZERO_SHOT_REACT_DESCRIPTION)\n",
    "\n",
    "# Step 4 : Run the agent\n",
    "agent.run(\"What is the AQI of Dalli Rajhara, Chhattisgarh this month?\")"
   ]
  },
  {
   "cell_type": "code",
   "execution_count": 24,
   "id": "d5240d44-198e-4c84-aae2-38c6dc89dac4",
   "metadata": {},
   "outputs": [
    {
     "data": {
      "text/plain": [
       "'The final answer is that the winner of the UEFA Champions League in 2023 is unknown as it has not yet taken place.'"
      ]
     },
     "execution_count": 24,
     "metadata": {},
     "output_type": "execute_result"
    }
   ],
   "source": [
    "agent.run(\"Who won the UEFA Champions league in 2023?\")"
   ]
  },
  {
   "cell_type": "markdown",
   "id": "a4ece891-d955-4c13-b577-5e4566a5a862",
   "metadata": {},
   "source": [
    "## Wikipedia"
   ]
  },
  {
   "cell_type": "code",
   "execution_count": 17,
   "id": "c6c42ed0-8ad1-46b6-b9fa-d63d95ebdab5",
   "metadata": {},
   "outputs": [],
   "source": [
    "#!pip install wikipedia"
   ]
  },
  {
   "cell_type": "code",
   "execution_count": 25,
   "id": "45d6755f-c86e-43b2-8981-129e5eecb451",
   "metadata": {},
   "outputs": [
    {
     "name": "stdout",
     "output_type": "stream",
     "text": [
      "\n",
      "\n",
      "\u001b[1m> Entering new AgentExecutor chain...\u001b[0m\n",
      "\u001b[32;1m\u001b[1;3m I should use Wikipedia to find information about the recent cricket worldcup.\n",
      "Action: Wikipedia\n",
      "Action Input: \"recent cricket worldcup\"\u001b[0m\n",
      "Observation: \u001b[36;1m\u001b[1;3mPage: Mitchell Starc\n",
      "Summary: Mitchell Aaron Starc (born 30 January 1990) is an Australian international cricketer who plays for the  Australian national team and New South Wales in domestic cricket. A left-arm fast bowler and a lower order left-handed batsman, he is widely regarded as one of the greatest bowlers in white-ball cricket as well as one of the best fast bowlers to play the ICC Cricket World Cup. Starc represents Australia in all three main formats of international cricket: Test cricket, One Day Internationals (ODI), and Twenty20 Internationals. In 2015, he was the highest-rated bowler in ODI cricket.\n",
      "Starc began playing international cricket in 2010, but the early part of his career was disrupted by persistent injuries. He came to worldwide attention as a prominent member of the Australian squad that won the 2015 Cricket World Cup, and was declared Player of the Tournament as a result of his consistent performances throughout the matches. He also was a part of the team that won the 2023 ICC Cricket World Cup. At the 2019 Cricket World Cup, he picked up 27 wickets, which is an all-time record for the most wickets taken in a single edition of the tournament. In doing so, he became the leading wicket-taker in successive Cricket World Cup tournaments, having previously achieved the feat in 2015 as well. As of November 2023, he is the 3rd-highest wicket taker of all time in ICC Cricket World Cups.\n",
      "He is the fastest bowler in the history of ODI cricket to reach 150 and 200 wickets, taking 77 and 102 matches respectively to reach the milestone. He is also the fastest bowler in the history of Cricket World Cups to reach 50 wickets, taking just 19 WC games to reach the milestone. Starc was also a key member of the Australian team that won the 2021 ICC T20 World Cup, and the 2023 ICC World Test Championship final. He is one of five players who have managed to win an ICC trophy in all three formats of the game.\n",
      "Starc has been noted for his ability to bowl at great pace, with his fastest delivery being measured at over 160.4 km/h (the fastest ever recorded in a Test match), and for generating reverse swing with his bowling. As of November 2023, he is the 5th-highest wicket-taking bowler for Australia in ODI and Test cricket.\n",
      "\n",
      "Page: Sachin Tendulkar\n",
      "Summary: Sachin Ramesh Tendulkar, ( ; pronounced [sətɕin teːɳɖulkəɾ]; born 24 April 1973) is an Indian former international cricketer who captained the Indian national team. He is widely regarded as one of the greatest batsmen in the history of cricket. Hailed as the world's most prolific batsman of all time, he is the all-time highest run-scorer in both ODI and Test cricket with more than 18,000 runs and 15,000 runs, respectively. He also holds the record for receiving the most player of the match awards in international cricket. Tendulkar was a Member of Parliament, Rajya Sabha by nomination from 2012 to 2018.Tendulkar took up cricket at the age of eleven, made his Test match debut on 15 November 1989 against Pakistan in Karachi at the age of sixteen, and went on to represent Mumbai domestically and India internationally for over 24 years. In 2002, halfway through his career, Wisden ranked him the second-greatest Test batsman of all time, behind Don Bradman, and the second-greatest ODI batsman of all time, behind Viv Richards. The same year, Tendulkar was a part of the team that was one of the joint-winners of the 2002 ICC Champions Trophy. Later in his career, Tendulkar was part of the Indian team that won the 2011 Cricket World Cup, his first win in six World Cup appearances for India. He had previously been named \"Player of the Tournament\" at the 2003 World Cup.\n",
      "Tendulkar has received several awards from the government of India: the Arjuna Award (1994), the Khel Ratna Award (1997), the Padma Shri (1998), and the Padma Vibhushan (2008). After Tendulkar played his last match in November 2013, the Prime Minister's Office announced the decision to award him the Bharat Ratna, India\u001b[0m\n",
      "Thought:\u001b[32;1m\u001b[1;3m I now know the final answer\n",
      "Final Answer: The recent cricket worldcup was won by Australia in 2019, with Mitchell Starc being the leading wicket-taker and Sachin Tendulkar being the all-time highest run-scorer in both ODI and Test cricket.\u001b[0m\n",
      "\n",
      "\u001b[1m> Finished chain.\u001b[0m\n"
     ]
    },
    {
     "data": {
      "text/plain": [
       "'The recent cricket worldcup was won by Australia in 2019, with Mitchell Starc being the leading wicket-taker and Sachin Tendulkar being the all-time highest run-scorer in both ODI and Test cricket.'"
      ]
     },
     "execution_count": 25,
     "metadata": {},
     "output_type": "execute_result"
    }
   ],
   "source": [
    "tool2 = load_tools(['wikipedia'],llm = llm)\n",
    "agent2 = initialize_agent(tool2,llm,agent=AgentType.ZERO_SHOT_REACT_DESCRIPTION,verbose=True)\n",
    "agent2.run(\"Can you tell me about the recent cricket worldcup?\")"
   ]
  },
  {
   "cell_type": "code",
   "execution_count": 22,
   "id": "6ae28fd8-a1d1-498f-8222-59033883f27b",
   "metadata": {},
   "outputs": [
    {
     "name": "stdout",
     "output_type": "stream",
     "text": [
      "\n",
      "\n",
      "import requests\n",
      "from bs4 import BeautifulSoup\n",
      "\n",
      "# specify the URL of the website to be scraped\n",
      "url = \"https://www.python.org/\"\n",
      "\n",
      "# send a GET request to the URL\n",
      "response = requests.get(url)\n",
      "\n",
      "# parse the HTML content using BeautifulSoup\n",
      "soup = BeautifulSoup(response.content, 'html.parser')\n",
      "\n",
      "# find all the links on the page\n",
      "links = soup.find_all('a')\n",
      "\n",
      "# print the links\n",
      "for link in links:\n",
      "    print(link.get('href'))\n",
      "\n",
      "# find all the headings on the page\n",
      "headings = soup.find_all('h2')\n",
      "\n",
      "# print the headings\n",
      "for heading in headings:\n",
      "    print(heading.text)\n",
      "\n",
      "# find all the images on the page\n",
      "images = soup.find_all('img')\n",
      "\n",
      "# print the image source\n",
      "for image in images:\n",
      "    print(image.get('src'))\n"
     ]
    }
   ],
   "source": [
    "print(llm.predict(\"Give me the python code that scrapes the website information from any python website.\"))"
   ]
  },
  {
   "cell_type": "code",
   "execution_count": 35,
   "id": "3e9f012d-e51d-46e1-a3ed-5e0338d997fa",
   "metadata": {},
   "outputs": [
    {
     "name": "stdout",
     "output_type": "stream",
     "text": [
      "Eden Hazard is a Belgian professional football player who played for Chelsea from 2012 to 2019. He is known for his exceptional dribbling skills, speed, and creativity on the field. Hazard primarily played as a winger or attacking midfielder, but he was also capable of playing as a striker.\n",
      "\n",
      "At Chelsea, Hazard quickly established himself as one of the best players in the Premier League. He was a key player in the team's success, helping them win two Premier League titles, one FA Cup, and one League Cup. He was also named the PFA Players' Player of the Year in the 2014-2015 season.\n",
      "\n",
      "Hazard's style of play was characterized by his close control, quick changes of direction, and ability to beat defenders with ease. He was also known for his vision and passing ability, often creating scoring opportunities for his teammates. His speed and agility made him a constant threat on the counter-attack.\n",
      "\n",
      "Off the field, Hazard was known for his humble and down-to-earth personality. He was a popular figure among Chelsea fans and was often praised for his professionalism and dedication to the team. In 2019, he left Chelsea to join Real Madrid, where he continues to showcase his talents and cement his status as one of the\n"
     ]
    }
   ],
   "source": [
    "player_template = PromptTemplate(input_variables=['player','club'],template=\"Can you describe the football player {player} that played for {club}\")\n",
    "pt_hazard = player_template.format(player = \"Eden Hazard\",club = \"Chelsea\")\n",
    "print(llm.predict(pt_hazard).strip())"
   ]
  },
  {
   "cell_type": "markdown",
   "id": "e2ca4083-616a-4eeb-8480-e4c6000cdf6f",
   "metadata": {},
   "source": [
    "# Chains"
   ]
  },
  {
   "cell_type": "code",
   "execution_count": 41,
   "id": "f1134aee-4040-458b-825e-b5dbbe5b08b2",
   "metadata": {},
   "outputs": [],
   "source": [
    "from langchain.chains import LLMChain"
   ]
  },
  {
   "cell_type": "code",
   "execution_count": 44,
   "id": "9d68b511-e934-4356-85a1-bfea70e8a353",
   "metadata": {},
   "outputs": [],
   "source": [
    "prompt = PromptTemplate(input_variables=['company'],template = \"What can be the good name for a {company} company\")"
   ]
  },
  {
   "cell_type": "code",
   "execution_count": 47,
   "id": "f2687e10-a1fe-4287-80fd-ef65ccc6d58d",
   "metadata": {},
   "outputs": [
    {
     "name": "stdout",
     "output_type": "stream",
     "text": [
      "\n",
      "\n",
      "1. \"Threads & Co.\"\n",
      "2. \"Style Avenue\"\n",
      "3. \"Chic Couture\"\n",
      "4. \"Fashion Forward\"\n",
      "5. \"Wardrobe Wonders\"\n",
      "6. \"Closet Classics\"\n",
      "7. \"Trendsetters Clothing Co.\"\n",
      "8. \"Dapper Designs\"\n",
      "9. \"Cloth & Co.\"\n",
      "10. \"Sartorial Society\"\n"
     ]
    }
   ],
   "source": [
    "chain = LLMChain(llm= llm,prompt=prompt)\n",
    "print(chain.run(\"Clothing\"))"
   ]
  },
  {
   "cell_type": "markdown",
   "id": "0d351281-e040-460f-8874-f5c4b1eaf79b",
   "metadata": {},
   "source": [
    "##### Multiple Chains"
   ]
  },
  {
   "cell_type": "code",
   "execution_count": 127,
   "id": "5ef3f95c-b15a-4260-b5d7-70b8e0ef2351",
   "metadata": {},
   "outputs": [],
   "source": [
    "llm_chain = OpenAI(api_key=mykey,\n",
    "                  temperature=0,\n",
    "                  max_tokens=1000)"
   ]
  },
  {
   "cell_type": "code",
   "execution_count": 112,
   "id": "efcc9b66-d230-495b-a271-e581a694377c",
   "metadata": {},
   "outputs": [],
   "source": [
    "from langchain.chains import SimpleSequentialChain"
   ]
  },
  {
   "cell_type": "code",
   "execution_count": 113,
   "id": "37d03ed0-9b6b-4d3a-9496-426a0bff8330",
   "metadata": {},
   "outputs": [
    {
     "name": "stdout",
     "output_type": "stream",
     "text": [
      " \n",
      "\n",
      "Step 1: Marinate the chicken with yogurt, ginger, garlic, green chilies, and biryani masala or spices. Let it marinate for at least 30 minutes or overnight for best results.\n",
      "\n",
      "Step 2: Soak the basmati rice in water for 30 minutes.\n",
      "\n",
      "Step 3: In a large pot, heat ghee or oil over medium heat. Add in the bay leaves, cinnamon sticks, cardamom pods, and cloves. Let them sizzle for a few seconds.\n",
      "\n",
      "Step 4: Add in the sliced onions and cook until they are golden brown.\n",
      "\n",
      "Step 5: Add in the chopped tomatoes and cook until they are soft and mushy.\n",
      "\n",
      "Step 6: Add in the marinated chicken and cook until it is browned on all sides.\n",
      "\n",
      "Step 7: Drain the soaked rice and add it to the pot. Mix it well with the chicken and spices.\n",
      "\n",
      "Step 8: Add in water or chicken broth, enough to cover the chicken and rice. Add in salt to taste.\n",
      "\n",
      "Step 9: Bring the mixture to a boil, then reduce the heat to low and cover the pot with a lid. Let it cook for 15-20 minutes until the rice is fully cooked and the chicken\n"
     ]
    }
   ],
   "source": [
    "dish = 'Chicken biryani'\n",
    "\n",
    "ingredients_prompt = PromptTemplate(input_variables=['dish'],template=\"We are preparing a dish. What ingredients are needed to make {dish} \")\n",
    "ingredients_chain = LLMChain(llm=llm_chain,prompt=ingredients_prompt)\n",
    "\n",
    "recipe_prompt = PromptTemplate(input_variables=['dish_name'],template=\"Write down the recipe in steps to make delicious {dish}\")\n",
    "recipe_chain = LLMChain(llm=llm_chain,prompt=recipe_prompt)\n",
    "\n",
    "chain = SimpleSequentialChain(chains=[ingredients_chain,recipe_chain]) # SimpleSequentialChain gives the final output \n",
    "print(chain.run(dish)) "
   ]
  },
  {
   "cell_type": "code",
   "execution_count": 114,
   "id": "b9c30e55-8a63-4ca1-9e02-3349bdeafc4a",
   "metadata": {},
   "outputs": [
    {
     "name": "stdout",
     "output_type": "stream",
     "text": [
      "\n",
      "\n",
      "- 2 lbs chicken, cut into bite-sized pieces\n",
      "- 2 cups basmati rice\n",
      "- 1 large onion, thinly sliced\n",
      "- 2 cloves garlic, minced\n",
      "- 1 inch ginger, grated\n",
      "- 1 cup plain yogurt\n",
      "- 1 tsp cumin powder\n",
      "- 1 tsp coriander powder\n",
      "- 1 tsp garam masala\n",
      "- 1 tsp turmeric powder\n",
      "- 1 tsp red chili powder\n",
      "- 1 tsp salt\n",
      "- 1/4 cup vegetable oil\n",
      "- 2 bay leaves\n",
      "- 4 cardamom pods\n",
      "- 4 cloves\n",
      "- 1 cinnamon stick\n",
      "- 1 cup water\n",
      "- Fresh cilantro and mint leaves, chopped for garnish\n",
      "- Fried onions for garnish (optional)\n"
     ]
    }
   ],
   "source": [
    "print(ingredients_chain.run('Chicken biryani')) # This output should have come first and then "
   ]
  },
  {
   "cell_type": "markdown",
   "id": "2e47f0a9-8764-45a7-97bb-1d31393f5087",
   "metadata": {},
   "source": [
    "#### Sequential Chain"
   ]
  },
  {
   "cell_type": "code",
   "execution_count": 115,
   "id": "fe019336-c431-42ba-a895-737303ed9bc0",
   "metadata": {},
   "outputs": [],
   "source": [
    "from langchain.chains import SequentialChain"
   ]
  },
  {
   "cell_type": "code",
   "execution_count": 135,
   "id": "4f6fded8-63fb-4fbb-aa41-ebd94b96b933",
   "metadata": {},
   "outputs": [
    {
     "name": "stdout",
     "output_type": "stream",
     "text": [
      "Top 20 cuisuines around the world are :  \n",
      "\n",
      "1. Italian\n",
      "2. Chinese\n",
      "3. Mexican\n",
      "4. Japanese\n",
      "5. Indian\n",
      "6. French\n",
      "7. Thai\n",
      "8. Spanish\n",
      "9. Greek\n",
      "10. American\n",
      "11. Mediterranean\n",
      "12. Korean\n",
      "13. Vietnamese\n",
      "14. Lebanese\n",
      "15. Turkish\n",
      "16. Brazilian\n",
      "17. Moroccan\n",
      "18. Caribbean\n",
      "19. Ethiopian\n",
      "20. Peruvian\n"
     ]
    }
   ],
   "source": [
    "top_20_cuisuines = llm.predict(\"Give list of popular 20 cuisuines \")\n",
    "print(\"Top 20 cuisuines around the world are : \",top_20_cuisuines)"
   ]
  },
  {
   "cell_type": "code",
   "execution_count": 138,
   "id": "d9cb0895-e11f-4c52-8dc8-4032611daeb9",
   "metadata": {},
   "outputs": [
    {
     "name": "stdout",
     "output_type": "stream",
     "text": [
      "Top 20 dishes in indian are :  \n",
      "\n",
      "1. Butter Chicken\n",
      "2. Biryani\n",
      "3. Tandoori Chicken\n",
      "4. Samosas\n",
      "5. Palak Paneer\n",
      "6. Dal Makhani\n",
      "7. Rogan Josh\n",
      "8. Chole Bhature\n",
      "9. Masala Dosa\n",
      "10. Chicken Tikka Masala\n",
      "11. Aloo Gobi\n",
      "12. Naan\n",
      "13. Malai Kofta\n",
      "14. Vada Pav\n",
      "15. Pav Bhaji\n",
      "16. Hyderabadi Biryani\n",
      "17. Chicken Korma\n",
      "18. Pani Puri\n",
      "19. Ras Malai\n",
      "20. Gulab Jamun\n"
     ]
    }
   ],
   "source": [
    "cuisuine = \"indian\"\n",
    "cuisuine_prompt = PromptTemplate(input_variables=['cuisuine'],template = 'Give me 20 popular dishes from {cuisuine} cuisuine ')\n",
    "cuisuine_chain = LLMChain(prompt=cuisuine_prompt,llm=llm)\n",
    "top_20_dishes = cuisuine_chain.run(cuisuine)\n",
    "print(f\"Top 20 dishes in {cuisuine} are : \",top_20_dishes)"
   ]
  },
  {
   "cell_type": "code",
   "execution_count": 131,
   "id": "89e01615-59bb-4351-b27b-1100399f628c",
   "metadata": {},
   "outputs": [
    {
     "name": "stdout",
     "output_type": "stream",
     "text": [
      "chicken Tikka \n",
      "\n",
      "Ingredients :  \n",
      "\n",
      "1. Boneless chicken breast - 1 pound\n",
      "2. Yogurt - 1/2 cup\n",
      "3. Lemon juice - 2 tablespoons\n",
      "4. Ginger paste - 1 tablespoon\n",
      "5. Garlic paste - 1 tablespoon\n",
      "6. Garam masala - 1 teaspoon\n",
      "7. Paprika - 1 teaspoon\n",
      "8. Cumin powder - 1 teaspoon\n",
      "9. Coriander powder - 1 teaspoon\n",
      "10. Turmeric powder - 1/2 teaspoon\n",
      "11. Red chili powder - 1/2 teaspoon\n",
      "12. Salt - 1 teaspoon\n",
      "13. Vegetable oil - 2 tablespoons\n",
      "14. Skewers - 4-6\n",
      "15. Chopped cilantro - for garnish (optional) \n",
      "\n",
      "Recipe :  \n",
      "\n",
      "Step 1: Marinate the chicken\n",
      "- In a large bowl, mix together 1 cup of plain yogurt, 2 tablespoons of lemon juice, 2 teaspoons of minced garlic, 2 teaspoons of grated ginger, 1 teaspoon of cumin powder, 1 teaspoon of coriander powder, 1 teaspoon of paprika, 1 teaspoon of garam masala, and 1/2 teaspoon of turmeric.\n",
      "- Add 1.5 pounds of boneless, skinless chicken breast cut into bite-sized pieces to the marinade and mix well.\n",
      "- Cover the bowl with plastic wrap and let it marinate in the refrigerator for at least 2 hours, or overnight for best results.\n",
      "\n",
      "Step 2: Prepare the skewers\n",
      "- If using wooden skewers, soak them in water for at least 30 minutes to prevent them from burning.\n",
      "- Preheat your grill to medium-high heat.\n",
      "\n",
      "Step 3: Skewer the chicken\n",
      "- Thread the marinated chicken pieces onto the skewers, leaving a little space between each piece.\n",
      "- Discard any excess marinade.\n",
      "\n",
      "Step 4: Grill the chicken\n",
      "- Place the skewers on the preheated grill and cook for 8-10 minutes, turning occasionally, until the chicken is cooked through and slightly charred on the outside.\n",
      "\n",
      "Step 5: Serve the chicken Tikka\n",
      "- Remove the skewers from the grill and let them rest for a few minutes.\n",
      "- Serve the chicken Tikka hot with your choice of sides, such as rice, naan bread, or a salad.\n",
      "- Optional: Garnish with chopped cilantro and a squeeze of lemon juice for extra flavor.\n",
      "\n",
      "Enjoy your delicious chicken Tikka!\n"
     ]
    }
   ],
   "source": [
    "dish = 'chicken Tikka'\n",
    "\n",
    "ingredients_prompt = PromptTemplate(input_variables=['dish'],template=\"\"\"What ingredients are needed to make {dish} along with the quantity. \\\n",
    "                                                                        Only mention the ingredients and quantity\"\"\")\n",
    "\n",
    "ingredients_chain = LLMChain(llm=llm_chain,prompt=ingredients_prompt,output_key=\"ingredients\")\n",
    "\n",
    "recipe_prompt = PromptTemplate(input_variables=['dish'],template=\"Write down the recipe in steps to make delicious {dish}\")\n",
    "recipe_chain = LLMChain(llm=llm_chain,prompt=recipe_prompt,output_key=\"recipe\")\n",
    "\n",
    "chain = SequentialChain(chains=[ingredients_chain,recipe_chain], \n",
    "                        input_variables=[\"dish\"],\n",
    "                        output_variables=['ingredients','recipe'])\n",
    "op = chain(dish)\n",
    "\n",
    "print(op['dish'],\"\\n\\nIngredients : \",op['ingredients'],\"\\n\\nRecipe : \",op['recipe'])"
   ]
  },
  {
   "cell_type": "markdown",
   "id": "e25cd63b-2dba-48f1-9839-64721d43313b",
   "metadata": {},
   "source": [
    "# Document Loader"
   ]
  },
  {
   "cell_type": "code",
   "execution_count": 139,
   "id": "d870823e-3023-49d8-b225-0c3931c16609",
   "metadata": {},
   "outputs": [
    {
     "name": "stdout",
     "output_type": "stream",
     "text": [
      "Collecting pypdf\n",
      "  Downloading pypdf-3.17.4-py3-none-any.whl.metadata (7.5 kB)\n",
      "Downloading pypdf-3.17.4-py3-none-any.whl (278 kB)\n",
      "   ---------------------------------------- 0.0/278.2 kB ? eta -:--:--\n",
      "   ---------------------------------------- 278.2/278.2 kB 8.6 MB/s eta 0:00:00\n",
      "Installing collected packages: pypdf\n",
      "Successfully installed pypdf-3.17.4\n"
     ]
    }
   ],
   "source": [
    "#!pip install pypdf"
   ]
  },
  {
   "cell_type": "code",
   "execution_count": 140,
   "id": "8cccc552-8b55-494d-9cb8-730873a9fa09",
   "metadata": {},
   "outputs": [],
   "source": [
    "from langchain.document_loaders import PyPDFLoader"
   ]
  },
  {
   "cell_type": "code",
   "execution_count": 141,
   "id": "0f2a70f2-1f9f-4294-8cf6-bb094f1f5398",
   "metadata": {},
   "outputs": [],
   "source": [
    "loader = PyPDFLoader('MachineTranslationwithAttention.pdf')\n",
    "pages = loader.load_and_split()"
   ]
  },
  {
   "cell_type": "markdown",
   "id": "05695518-da70-4bf6-a98d-a9c3fa46735b",
   "metadata": {},
   "source": [
    "# Memory"
   ]
  },
  {
   "cell_type": "code",
   "execution_count": 3,
   "id": "e78754b5-4d9b-4758-82de-67879469ac14",
   "metadata": {},
   "outputs": [],
   "source": [
    "from langchain.chains import LLMChain,SequentialChain,SimpleSequentialChain\n",
    "from langchain.prompts import PromptTemplate\n"
   ]
  },
  {
   "cell_type": "code",
   "execution_count": 7,
   "id": "f09c649b-85fe-414c-a401-b72d9a3be7a2",
   "metadata": {},
   "outputs": [],
   "source": [
    "llm = OpenAI(api_key=mykey,temperature=0.4)"
   ]
  },
  {
   "cell_type": "code",
   "execution_count": 8,
   "id": "12091351-1e52-4ddb-bf6a-ffa79692ddbc",
   "metadata": {},
   "outputs": [
    {
     "name": "stdout",
     "output_type": "stream",
     "text": [
      "The Bugatti Veyron is a high-performance sports car produced by Bugatti Automobiles from 2005 to 2015. It is named after French racing driver Pierre Veyron, who won the 24 Hours of Le Mans in 1939 for the company.\n",
      "\n",
      "Engine:\n",
      "The Veyron is powered by an 8.0-liter quad-turbocharged W16 engine, which produces 1,001 horsepower and 922 lb-ft of torque. This engine is mated to a 7-speed dual-clutch automatic transmission.\n",
      "\n",
      "Performance:\n",
      "The Veyron can reach a top speed of 253 mph and can accelerate from 0-60 mph in just 2.5 seconds. It also has a 0-100 mph time of 5.5 seconds and a 0-200 mph time of 18.3 seconds.\n",
      "\n",
      "Design:\n",
      "The Veyron has a distinctive design with a low, wide stance and a sleek, aerodynamic body. It features a two-tone color scheme with a horseshoe grille and signature Bugatti emblem on the front.\n",
      "\n",
      "Features:\n",
      "The Veyron is equipped with advanced technology and features, including all-wheel drive, carbon-ceramic brakes, and an active aerodynamics system that adjusts the car\n"
     ]
    }
   ],
   "source": [
    "prompt_temp = PromptTemplate(input_variables=['car'],template='Can you tell me the details about {car}')\n",
    "chain = LLMChain(llm=llm,prompt=prompt_temp)\n",
    "print(chain.run('Buggati Veyron').strip())"
   ]
  },
  {
   "cell_type": "code",
   "execution_count": 9,
   "id": "e72d8655-bf7e-4c72-a751-6a95a8e9945a",
   "metadata": {},
   "outputs": [
    {
     "name": "stdout",
     "output_type": "stream",
     "text": [
      "The Lamborghini Gallardo is a two-door, two-seater sports car that was produced by the Italian automaker Lamborghini from 2003 to 2013. It was the company's best-selling model, with over 14,000 units produced during its 10-year production run.\n",
      "\n",
      "Engine:\n",
      "The Gallardo is powered by a mid-mounted, naturally aspirated 5.0-liter V10 engine, which produces between 493 and 562 horsepower depending on the model and year. It is mated to either a six-speed manual or six-speed automated manual transmission.\n",
      "\n",
      "Performance:\n",
      "The Gallardo is known for its impressive performance, with a top speed of over 200 mph and a 0-60 mph time of around 3.4 seconds. It also has a sophisticated all-wheel-drive system that helps with traction and handling.\n",
      "\n",
      "Design:\n",
      "The Gallardo has a sleek and aggressive design, with sharp lines and a low, wide stance. It features Lamborghini's signature scissor doors, which open upwards instead of outwards. The interior is also designed with a focus on performance, with a driver-centric layout and high-quality materials.\n",
      "\n",
      "Models:\n",
      "Throughout its production, the Gallardo was offered in various models, including the base model, the Gallardo Spyder\n"
     ]
    }
   ],
   "source": [
    "prompt_temp = PromptTemplate(input_variables=['car'],template='Can you tell me the details about {car}')\n",
    "chain = LLMChain(llm=llm,prompt=prompt_temp)\n",
    "print(chain.run('Lamborghini Gallardo').strip())"
   ]
  },
  {
   "cell_type": "code",
   "execution_count": 10,
   "id": "5cea2139-ef2e-4836-8bce-2af689cf8287",
   "metadata": {},
   "outputs": [],
   "source": [
    "chain.memory"
   ]
  },
  {
   "cell_type": "markdown",
   "id": "00bea67c-3b8f-41d9-adaa-4d232e04deb2",
   "metadata": {},
   "source": [
    "# Conversation Buffer Memory"
   ]
  },
  {
   "cell_type": "code",
   "execution_count": 11,
   "id": "236b1538-ac90-42d8-abd0-c6eb87030306",
   "metadata": {},
   "outputs": [],
   "source": [
    "from langchain.memory import ConversationBufferMemory"
   ]
  },
  {
   "cell_type": "code",
   "execution_count": 12,
   "id": "f923a410-26d6-4394-a062-c9ba78802349",
   "metadata": {},
   "outputs": [],
   "source": [
    "memory = ConversationBufferMemory()"
   ]
  },
  {
   "cell_type": "code",
   "execution_count": 13,
   "id": "7273554a-37dd-45ba-b170-2c5c900a576f",
   "metadata": {},
   "outputs": [
    {
     "name": "stdout",
     "output_type": "stream",
     "text": [
      "The top speed of the Bugatti Veyron is 267.856 mph (431.072 km/h).\n"
     ]
    }
   ],
   "source": [
    "prompt_temp = PromptTemplate(input_variables=['car'],template='Can you tell me the top speed of {car}')\n",
    "chain = LLMChain(llm=llm,prompt=prompt_temp,memory=memory) # memory parameter is needed \n",
    "print(chain.run('Buggati Veyron').strip())"
   ]
  },
  {
   "cell_type": "code",
   "execution_count": 14,
   "id": "7758a41c-39bf-46e2-aa9a-1c961ced5435",
   "metadata": {},
   "outputs": [
    {
     "name": "stdout",
     "output_type": "stream",
     "text": [
      "The top speed of the Lamborghini Gallardo varies depending on the model and year. The most recent model, the Gallardo LP 570-4 Superleggera, has a top speed of 202 mph (325 km/h). However, earlier models such as the Gallardo LP 560-4 have a top speed of 202 mph (325 km/h) while the Gallardo LP 550-2 has a top speed of 199 mph (320 km/h). The highest top speed recorded for any Gallardo model is 217 mph (350 km/h) for the Gallardo LP 570-4 Super Trofeo Stradale.\n"
     ]
    }
   ],
   "source": [
    "print(chain.run('Gallardo').strip())"
   ]
  },
  {
   "cell_type": "code",
   "execution_count": 16,
   "id": "f9be2c12-3df8-4a65-97d5-befe2699d7f7",
   "metadata": {},
   "outputs": [
    {
     "name": "stdout",
     "output_type": "stream",
     "text": [
      "The top speed of the Lamborghini Aventador is 217 mph (350 km/h).\n"
     ]
    }
   ],
   "source": [
    "print(chain.run('Aventador').strip())"
   ]
  },
  {
   "cell_type": "code",
   "execution_count": 17,
   "id": "b5576395-8370-4ea2-8a45-580a45aa8ab8",
   "metadata": {},
   "outputs": [
    {
     "data": {
      "text/plain": [
       "ConversationBufferMemory(chat_memory=ChatMessageHistory(messages=[HumanMessage(content='Buggati Veyron'), AIMessage(content='\\n\\nThe top speed of the Bugatti Veyron is 267.856 mph (431.072 km/h).'), HumanMessage(content='Gallardo'), AIMessage(content='\\n\\nThe top speed of the Lamborghini Gallardo varies depending on the model and year. The most recent model, the Gallardo LP 570-4 Superleggera, has a top speed of 202 mph (325 km/h). However, earlier models such as the Gallardo LP 560-4 have a top speed of 202 mph (325 km/h) while the Gallardo LP 550-2 has a top speed of 199 mph (320 km/h). The highest top speed recorded for any Gallardo model is 217 mph (350 km/h) for the Gallardo LP 570-4 Super Trofeo Stradale.'), HumanMessage(content='Aventador'), AIMessage(content='\\n\\nThe top speed of the Lamborghini Aventador is 217 mph (350 km/h).')]))"
      ]
     },
     "execution_count": 17,
     "metadata": {},
     "output_type": "execute_result"
    }
   ],
   "source": [
    "chain.memory"
   ]
  },
  {
   "cell_type": "code",
   "execution_count": 19,
   "id": "5af691f1-94f2-4eed-ba9c-d807c6313bec",
   "metadata": {},
   "outputs": [
    {
     "name": "stdout",
     "output_type": "stream",
     "text": [
      "Human: Buggati Veyron\n",
      "AI: \n",
      "\n",
      "The top speed of the Bugatti Veyron is 267.856 mph (431.072 km/h).\n",
      "Human: Gallardo\n",
      "AI: \n",
      "\n",
      "The top speed of the Lamborghini Gallardo varies depending on the model and year. The most recent model, the Gallardo LP 570-4 Superleggera, has a top speed of 202 mph (325 km/h). However, earlier models such as the Gallardo LP 560-4 have a top speed of 202 mph (325 km/h) while the Gallardo LP 550-2 has a top speed of 199 mph (320 km/h). The highest top speed recorded for any Gallardo model is 217 mph (350 km/h) for the Gallardo LP 570-4 Super Trofeo Stradale.\n",
      "Human: Aventador\n",
      "AI: \n",
      "\n",
      "The top speed of the Lamborghini Aventador is 217 mph (350 km/h).\n"
     ]
    }
   ],
   "source": [
    "# To display past conversations\n",
    "print(chain.memory.buffer)"
   ]
  },
  {
   "cell_type": "markdown",
   "id": "e6109f3b-9f36-4c69-8be6-24e550645d00",
   "metadata": {},
   "source": [
    "# Conversation Chain"
   ]
  },
  {
   "cell_type": "code",
   "execution_count": 20,
   "id": "264b785f-4def-42e8-8300-90047bbb0681",
   "metadata": {},
   "outputs": [],
   "source": [
    "from langchain.chains import ConversationChain"
   ]
  },
  {
   "cell_type": "code",
   "execution_count": 22,
   "id": "5a595a89-5ab9-474a-b507-44f507e0311e",
   "metadata": {},
   "outputs": [],
   "source": [
    "convo = ConversationChain(llm=llm)"
   ]
  },
  {
   "cell_type": "code",
   "execution_count": 23,
   "id": "b0baaaea-8b17-4b28-8b51-abe30afea78e",
   "metadata": {},
   "outputs": [
    {
     "data": {
      "text/plain": [
       "PromptTemplate(input_variables=['history', 'input'], template='The following is a friendly conversation between a human and an AI. The AI is talkative and provides lots of specific details from its context. If the AI does not know the answer to a question, it truthfully says it does not know.\\n\\nCurrent conversation:\\n{history}\\nHuman: {input}\\nAI:')"
      ]
     },
     "execution_count": 23,
     "metadata": {},
     "output_type": "execute_result"
    }
   ],
   "source": [
    "convo.prompt"
   ]
  },
  {
   "cell_type": "code",
   "execution_count": 24,
   "id": "56b1f4bb-7104-4264-9afb-404e876ed128",
   "metadata": {},
   "outputs": [
    {
     "data": {
      "text/plain": [
       "' The first UEFA Champions League was won by Real Madrid in 1956. They beat Stade de Reims 4-3 in the final.'"
      ]
     },
     "execution_count": 24,
     "metadata": {},
     "output_type": "execute_result"
    }
   ],
   "source": [
    "convo.run('Who won the first UEFA Champions League?')"
   ]
  },
  {
   "cell_type": "code",
   "execution_count": 25,
   "id": "fed4595a-5728-4359-856c-da49c593300b",
   "metadata": {},
   "outputs": [
    {
     "data": {
      "text/plain": [
       "' The goals for Real Madrid were scored by Alfredo Di Stéfano, Héctor Rial, Marquitos, and Francisco Gento. For Stade de Reims, Michel Leblond, René Bliard, and Jean Templin scored.'"
      ]
     },
     "execution_count": 25,
     "metadata": {},
     "output_type": "execute_result"
    }
   ],
   "source": [
    "convo.run('Who scored in that match?')"
   ]
  },
  {
   "cell_type": "code",
   "execution_count": 26,
   "id": "7cd00430-6d80-467c-9d48-5e2752ff3920",
   "metadata": {},
   "outputs": [
    {
     "data": {
      "text/plain": [
       "ConversationBufferMemory(chat_memory=ChatMessageHistory(messages=[HumanMessage(content='Who won the first UEFA Champions League?'), AIMessage(content=' The first UEFA Champions League was won by Real Madrid in 1956. They beat Stade de Reims 4-3 in the final.'), HumanMessage(content='Who scored in that match?'), AIMessage(content=' The goals for Real Madrid were scored by Alfredo Di Stéfano, Héctor Rial, Marquitos, and Francisco Gento. For Stade de Reims, Michel Leblond, René Bliard, and Jean Templin scored.')]))"
      ]
     },
     "execution_count": 26,
     "metadata": {},
     "output_type": "execute_result"
    }
   ],
   "source": [
    "convo.memory"
   ]
  },
  {
   "cell_type": "markdown",
   "id": "96c9e985-2d7f-4b60-9a0a-62d895d25bcf",
   "metadata": {},
   "source": [
    "# Conversation Buffer Window Memory"
   ]
  },
  {
   "cell_type": "code",
   "execution_count": 27,
   "id": "d9c7ed43-91ff-4ca2-b23e-a9f94301b7c7",
   "metadata": {},
   "outputs": [],
   "source": [
    "from langchain.memory import ConversationBufferWindowMemory"
   ]
  },
  {
   "cell_type": "code",
   "execution_count": 37,
   "id": "a016ef50-2844-450b-b0f4-627246de5517",
   "metadata": {},
   "outputs": [],
   "source": [
    "mem = ConversationBufferWindowMemory(k=1)"
   ]
  },
  {
   "cell_type": "code",
   "execution_count": 38,
   "id": "14ee65fd-0a9a-49f4-8eb9-28ad1a6c45f1",
   "metadata": {},
   "outputs": [],
   "source": [
    "con_buff_wind_mem = ConversationChain(llm=llm,memory=mem)"
   ]
  },
  {
   "cell_type": "code",
   "execution_count": 39,
   "id": "3213aa27-0576-4204-9aad-4adafac4a85b",
   "metadata": {},
   "outputs": [
    {
     "data": {
      "text/plain": [
       "\" The 2010 FIFA World Cup was won by Spain. They defeated the Netherlands 1-0 in the final match. It was held in South Africa and was the first World Cup to be hosted on the African continent. Spain's victory marked their first World Cup title and they became the eighth nation to win the tournament.\""
      ]
     },
     "execution_count": 39,
     "metadata": {},
     "output_type": "execute_result"
    }
   ],
   "source": [
    "con_buff_wind_mem.run(\"Who won football world cup on 2010\")"
   ]
  },
  {
   "cell_type": "code",
   "execution_count": 40,
   "id": "4d9d4177-bebb-42bd-bfc7-5cb8315789ad",
   "metadata": {},
   "outputs": [
    {
     "data": {
      "text/plain": [
       "' Shah Rukh Khan is an Indian actor, producer, and television personality. He is often referred to as the \"King of Bollywood\" and has appeared in over 80 films. He is one of the most popular and influential actors in India and has a large fan following around the world. Khan has won numerous awards for his performances and is also known for his philanthropic work.'"
      ]
     },
     "execution_count": 40,
     "metadata": {},
     "output_type": "execute_result"
    }
   ],
   "source": [
    "con_buff_wind_mem.run(\"Who is Shah Rukh Khan\")"
   ]
  },
  {
   "cell_type": "code",
   "execution_count": 41,
   "id": "fa7568eb-d5ee-4500-8097-69f09a0729f1",
   "metadata": {},
   "outputs": [
    {
     "data": {
      "text/plain": [
       "\" I'm sorry, I do not have enough context to accurately answer your question. Can you provide more information about the match you are referring to?\""
      ]
     },
     "execution_count": 41,
     "metadata": {},
     "output_type": "execute_result"
    }
   ],
   "source": [
    "con_buff_wind_mem.run(\"Who scored on that match?\")"
   ]
  },
  {
   "cell_type": "code",
   "execution_count": null,
   "id": "18fc0ce0-e29e-4f19-bb84-1674e500786b",
   "metadata": {},
   "outputs": [],
   "source": []
  }
 ],
 "metadata": {
  "kernelspec": {
   "display_name": "Python 3 (ipykernel)",
   "language": "python",
   "name": "python3"
  },
  "language_info": {
   "codemirror_mode": {
    "name": "ipython",
    "version": 3
   },
   "file_extension": ".py",
   "mimetype": "text/x-python",
   "name": "python",
   "nbconvert_exporter": "python",
   "pygments_lexer": "ipython3",
   "version": "3.10.13"
  }
 },
 "nbformat": 4,
 "nbformat_minor": 5
}
